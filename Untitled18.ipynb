{
  "nbformat": 4,
  "nbformat_minor": 0,
  "metadata": {
    "colab": {
      "provenance": []
    },
    "kernelspec": {
      "name": "python3",
      "display_name": "Python 3"
    },
    "language_info": {
      "name": "python"
    }
  },
  "cells": [
    {
      "cell_type": "markdown",
      "source": [
        "#Functions\n",
        "\n",
        "#Basic Aggregate Functions:"
      ],
      "metadata": {
        "id": "Wea1GkPO-SFD"
      }
    },
    {
      "cell_type": "code",
      "execution_count": 1,
      "metadata": {
        "colab": {
          "base_uri": "https://localhost:8080/",
          "height": 74
        },
        "id": "KktNjF849jZG",
        "outputId": "8f108840-50da-406b-9245-e9b04b84104b"
      },
      "outputs": [
        {
          "output_type": "display_data",
          "data": {
            "text/plain": [
              "<IPython.core.display.HTML object>"
            ],
            "text/html": [
              "\n",
              "     <input type=\"file\" id=\"files-e9109ffb-4bd5-42e4-8653-64034c479879\" name=\"files[]\" multiple disabled\n",
              "        style=\"border:none\" />\n",
              "     <output id=\"result-e9109ffb-4bd5-42e4-8653-64034c479879\">\n",
              "      Upload widget is only available when the cell has been executed in the\n",
              "      current browser session. Please rerun this cell to enable.\n",
              "      </output>\n",
              "      <script>// Copyright 2017 Google LLC\n",
              "//\n",
              "// Licensed under the Apache License, Version 2.0 (the \"License\");\n",
              "// you may not use this file except in compliance with the License.\n",
              "// You may obtain a copy of the License at\n",
              "//\n",
              "//      http://www.apache.org/licenses/LICENSE-2.0\n",
              "//\n",
              "// Unless required by applicable law or agreed to in writing, software\n",
              "// distributed under the License is distributed on an \"AS IS\" BASIS,\n",
              "// WITHOUT WARRANTIES OR CONDITIONS OF ANY KIND, either express or implied.\n",
              "// See the License for the specific language governing permissions and\n",
              "// limitations under the License.\n",
              "\n",
              "/**\n",
              " * @fileoverview Helpers for google.colab Python module.\n",
              " */\n",
              "(function(scope) {\n",
              "function span(text, styleAttributes = {}) {\n",
              "  const element = document.createElement('span');\n",
              "  element.textContent = text;\n",
              "  for (const key of Object.keys(styleAttributes)) {\n",
              "    element.style[key] = styleAttributes[key];\n",
              "  }\n",
              "  return element;\n",
              "}\n",
              "\n",
              "// Max number of bytes which will be uploaded at a time.\n",
              "const MAX_PAYLOAD_SIZE = 100 * 1024;\n",
              "\n",
              "function _uploadFiles(inputId, outputId) {\n",
              "  const steps = uploadFilesStep(inputId, outputId);\n",
              "  const outputElement = document.getElementById(outputId);\n",
              "  // Cache steps on the outputElement to make it available for the next call\n",
              "  // to uploadFilesContinue from Python.\n",
              "  outputElement.steps = steps;\n",
              "\n",
              "  return _uploadFilesContinue(outputId);\n",
              "}\n",
              "\n",
              "// This is roughly an async generator (not supported in the browser yet),\n",
              "// where there are multiple asynchronous steps and the Python side is going\n",
              "// to poll for completion of each step.\n",
              "// This uses a Promise to block the python side on completion of each step,\n",
              "// then passes the result of the previous step as the input to the next step.\n",
              "function _uploadFilesContinue(outputId) {\n",
              "  const outputElement = document.getElementById(outputId);\n",
              "  const steps = outputElement.steps;\n",
              "\n",
              "  const next = steps.next(outputElement.lastPromiseValue);\n",
              "  return Promise.resolve(next.value.promise).then((value) => {\n",
              "    // Cache the last promise value to make it available to the next\n",
              "    // step of the generator.\n",
              "    outputElement.lastPromiseValue = value;\n",
              "    return next.value.response;\n",
              "  });\n",
              "}\n",
              "\n",
              "/**\n",
              " * Generator function which is called between each async step of the upload\n",
              " * process.\n",
              " * @param {string} inputId Element ID of the input file picker element.\n",
              " * @param {string} outputId Element ID of the output display.\n",
              " * @return {!Iterable<!Object>} Iterable of next steps.\n",
              " */\n",
              "function* uploadFilesStep(inputId, outputId) {\n",
              "  const inputElement = document.getElementById(inputId);\n",
              "  inputElement.disabled = false;\n",
              "\n",
              "  const outputElement = document.getElementById(outputId);\n",
              "  outputElement.innerHTML = '';\n",
              "\n",
              "  const pickedPromise = new Promise((resolve) => {\n",
              "    inputElement.addEventListener('change', (e) => {\n",
              "      resolve(e.target.files);\n",
              "    });\n",
              "  });\n",
              "\n",
              "  const cancel = document.createElement('button');\n",
              "  inputElement.parentElement.appendChild(cancel);\n",
              "  cancel.textContent = 'Cancel upload';\n",
              "  const cancelPromise = new Promise((resolve) => {\n",
              "    cancel.onclick = () => {\n",
              "      resolve(null);\n",
              "    };\n",
              "  });\n",
              "\n",
              "  // Wait for the user to pick the files.\n",
              "  const files = yield {\n",
              "    promise: Promise.race([pickedPromise, cancelPromise]),\n",
              "    response: {\n",
              "      action: 'starting',\n",
              "    }\n",
              "  };\n",
              "\n",
              "  cancel.remove();\n",
              "\n",
              "  // Disable the input element since further picks are not allowed.\n",
              "  inputElement.disabled = true;\n",
              "\n",
              "  if (!files) {\n",
              "    return {\n",
              "      response: {\n",
              "        action: 'complete',\n",
              "      }\n",
              "    };\n",
              "  }\n",
              "\n",
              "  for (const file of files) {\n",
              "    const li = document.createElement('li');\n",
              "    li.append(span(file.name, {fontWeight: 'bold'}));\n",
              "    li.append(span(\n",
              "        `(${file.type || 'n/a'}) - ${file.size} bytes, ` +\n",
              "        `last modified: ${\n",
              "            file.lastModifiedDate ? file.lastModifiedDate.toLocaleDateString() :\n",
              "                                    'n/a'} - `));\n",
              "    const percent = span('0% done');\n",
              "    li.appendChild(percent);\n",
              "\n",
              "    outputElement.appendChild(li);\n",
              "\n",
              "    const fileDataPromise = new Promise((resolve) => {\n",
              "      const reader = new FileReader();\n",
              "      reader.onload = (e) => {\n",
              "        resolve(e.target.result);\n",
              "      };\n",
              "      reader.readAsArrayBuffer(file);\n",
              "    });\n",
              "    // Wait for the data to be ready.\n",
              "    let fileData = yield {\n",
              "      promise: fileDataPromise,\n",
              "      response: {\n",
              "        action: 'continue',\n",
              "      }\n",
              "    };\n",
              "\n",
              "    // Use a chunked sending to avoid message size limits. See b/62115660.\n",
              "    let position = 0;\n",
              "    do {\n",
              "      const length = Math.min(fileData.byteLength - position, MAX_PAYLOAD_SIZE);\n",
              "      const chunk = new Uint8Array(fileData, position, length);\n",
              "      position += length;\n",
              "\n",
              "      const base64 = btoa(String.fromCharCode.apply(null, chunk));\n",
              "      yield {\n",
              "        response: {\n",
              "          action: 'append',\n",
              "          file: file.name,\n",
              "          data: base64,\n",
              "        },\n",
              "      };\n",
              "\n",
              "      let percentDone = fileData.byteLength === 0 ?\n",
              "          100 :\n",
              "          Math.round((position / fileData.byteLength) * 100);\n",
              "      percent.textContent = `${percentDone}% done`;\n",
              "\n",
              "    } while (position < fileData.byteLength);\n",
              "  }\n",
              "\n",
              "  // All done.\n",
              "  yield {\n",
              "    response: {\n",
              "      action: 'complete',\n",
              "    }\n",
              "  };\n",
              "}\n",
              "\n",
              "scope.google = scope.google || {};\n",
              "scope.google.colab = scope.google.colab || {};\n",
              "scope.google.colab._files = {\n",
              "  _uploadFiles,\n",
              "  _uploadFilesContinue,\n",
              "};\n",
              "})(self);\n",
              "</script> "
            ]
          },
          "metadata": {}
        },
        {
          "output_type": "stream",
          "name": "stdout",
          "text": [
            "Saving Mavenmovies.sql to Mavenmovies.sql\n"
          ]
        }
      ],
      "source": [
        "from google.colab import files\n",
        "uploaded = files.upload()"
      ]
    },
    {
      "cell_type": "markdown",
      "source": [
        "1.Retrieve the total number of rentals made in the Sakila database."
      ],
      "metadata": {
        "id": "Kdnon9Bd-bba"
      }
    },
    {
      "cell_type": "code",
      "metadata": {
        "colab": {
          "base_uri": "https://localhost:8080/"
        },
        "id": "812571e0",
        "outputId": "7ca65e5e-ee82-4421-cd7d-254d63aecd04"
      },
      "source": [
        "#code\n",
        "import sqlite3\n",
        "import io\n",
        "conn = sqlite3.connect(':memory:')\n",
        "cursor = conn.cursor()\n",
        "sql_content = uploaded['Mavenmovies.sql'].decode('utf-8')\n",
        "statements = sql_content.split(';')\n",
        "for statement in statements:\n",
        "    if statement.strip():\n",
        "        try:\n",
        "            cursor.execute(statement + ';')\n",
        "        except Exception as e:\n",
        "            print(f\"Error executing statement: {statement[:100]}...\")\n",
        "            print(f\"Error: {e}\")\n",
        "conn.commit()\n",
        "%sql sqlite:///:memory:"
      ],
      "execution_count": 9,
      "outputs": [
        {
          "output_type": "stream",
          "name": "stdout",
          "text": [
            "Error executing statement:  LOSS OF USE, DATA, OR PROFITS...\n",
            "Error: near \"LOSS\": syntax error\n",
            "Error executing statement:  OR BUSINESS INTERRUPTION) HOWEVER CAUSED AND ON ANY THEORY OF LIABILITY, WHETHER IN CONTRACT, STRIC...\n",
            "Error: near \"OR\": syntax error\n",
            "Error executing statement: \n",
            "SET @OLD_FOREIGN_KEY_CHECKS=@@FOREIGN_KEY_CHECKS, FOREIGN_KEY_CHECKS=0...\n",
            "Error: near \"SET\": syntax error\n",
            "Error executing statement:  -- commenting out for Maven Course to avoid concerning warning message\n",
            "CREATE SCHEMA mavenmovies...\n",
            "Error: near \"SCHEMA\": syntax error\n",
            "Error executing statement: \n",
            "USE mavenmovies...\n",
            "Error: near \"USE\": syntax error\n",
            "Error executing statement: \n",
            "\n",
            "--\n",
            "-- Table structure for table `actor`\n",
            "--\n",
            "\n",
            "CREATE TABLE actor (\n",
            "  actor_id SMALLINT UNSIGNED NOT ...\n",
            "Error: near \"AUTO_INCREMENT\": syntax error\n",
            "Error executing statement: \n",
            "\n",
            "--\n",
            "-- Table structure for table `actor`\n",
            "--\n",
            "\n",
            "CREATE TABLE actor_award (\n",
            "  actor_award_id SMALLINT U...\n",
            "Error: near \"AUTO_INCREMENT\": syntax error\n",
            "Error executing statement: \n",
            "\n",
            "--\n",
            "-- Table structure for table `address`\n",
            "--\n",
            "\n",
            "CREATE TABLE address (\n",
            "  address_id SMALLINT UNSIGNE...\n",
            "Error: near \"AUTO_INCREMENT\": syntax error\n",
            "Error executing statement: \n",
            "\n",
            "--\n",
            "-- Table structure for table `advisor`\n",
            "--\n",
            "\n",
            "CREATE TABLE advisor (\n",
            "  advisor_id SMALLINT UNSIGNE...\n",
            "Error: near \"AUTO_INCREMENT\": syntax error\n",
            "Error executing statement: \n",
            "\n",
            "--\n",
            "-- Table structure for table `category`\n",
            "--\n",
            "\n",
            "CREATE TABLE category (\n",
            "  category_id TINYINT UNSIG...\n",
            "Error: near \"AUTO_INCREMENT\": syntax error\n",
            "Error executing statement: \n",
            "\n",
            "--\n",
            "-- Table structure for table `city`\n",
            "--\n",
            "\n",
            "CREATE TABLE city (\n",
            "  city_id SMALLINT UNSIGNED NOT NUL...\n",
            "Error: near \"AUTO_INCREMENT\": syntax error\n",
            "Error executing statement: \n",
            "\n",
            "--\n",
            "-- Table structure for table `country`\n",
            "--\n",
            "\n",
            "CREATE TABLE country (\n",
            "  country_id SMALLINT UNSIGNE...\n",
            "Error: near \"AUTO_INCREMENT\": syntax error\n",
            "Error executing statement: \n",
            "\n",
            "--\n",
            "-- Table structure for table `customer`\n",
            "--\n",
            "\n",
            "CREATE TABLE customer (\n",
            "  customer_id SMALLINT UNSI...\n",
            "Error: near \"AUTO_INCREMENT\": syntax error\n",
            "Error executing statement: \n",
            "\n",
            "--\n",
            "-- Table structure for table `film`\n",
            "--\n",
            "\n",
            "CREATE TABLE film (\n",
            "  film_id SMALLINT UNSIGNED NOT NUL...\n",
            "Error: near \"AUTO_INCREMENT\": syntax error\n",
            "Error executing statement: \n",
            "\n",
            "--\n",
            "-- Table structure for table `film_actor`\n",
            "--\n",
            "\n",
            "CREATE TABLE film_actor (\n",
            "  actor_id SMALLINT UNS...\n",
            "Error: near \"ON\": syntax error\n",
            "Error executing statement: \n",
            "\n",
            "--\n",
            "-- Table structure for table `film_category`\n",
            "--\n",
            "\n",
            "CREATE TABLE film_category (\n",
            "  film_id SMALLIN...\n",
            "Error: near \"ON\": syntax error\n",
            "Error executing statement: \n",
            "\n",
            "--\n",
            "-- Table structure for table `film_text`\n",
            "-- \n",
            "-- InnoDB added FULLTEXT support in 5.6.10. If you...\n",
            "Error: near \"FULLTEXT\": syntax error\n",
            "Error executing statement: \n",
            "\n",
            "--\n",
            "-- Triggers for loading film_text from film\n",
            "--\n",
            "\n",
            "DELIMITER ...\n",
            "Error: near \"DELIMITER\": syntax error\n",
            "Error executing statement: \n",
            "CREATE TRIGGER `ins_film` AFTER INSERT ON `film` FOR EACH ROW BEGIN\n",
            "    INSERT INTO film_text (film...\n",
            "Error: no such table: main.film\n",
            "Error executing statement: \n",
            "  END...\n",
            "Error: cannot commit - no transaction is active\n",
            "Error executing statement: \n",
            "\n",
            "\n",
            "CREATE TRIGGER `upd_film` AFTER UPDATE ON `film` FOR EACH ROW BEGIN\n",
            "    IF (old.title != new.titl...\n",
            "Error: no such table: main.film\n",
            "Error executing statement: \n",
            "    END IF...\n",
            "Error: near \"IF\": syntax error\n",
            "Error executing statement: \n",
            "  END...\n",
            "Error: cannot commit - no transaction is active\n",
            "Error executing statement: \n",
            "\n",
            "\n",
            "CREATE TRIGGER `del_film` AFTER DELETE ON `film` FOR EACH ROW BEGIN\n",
            "    DELETE FROM film_text WHE...\n",
            "Error: no such table: main.film\n",
            "Error executing statement: \n",
            "  END...\n",
            "Error: cannot commit - no transaction is active\n",
            "Error executing statement: \n",
            "\n",
            "DELIMITER ...\n",
            "Error: near \"DELIMITER\": syntax error\n",
            "Error executing statement: \n",
            "\n",
            "--\n",
            "-- Table structure for table `inventory`\n",
            "--\n",
            "\n",
            "CREATE TABLE inventory (\n",
            "  inventory_id MEDIUMINT ...\n",
            "Error: near \"AUTO_INCREMENT\": syntax error\n",
            "Error executing statement: \n",
            "\n",
            "\n",
            "--\n",
            "-- Table structure for table `investor`\n",
            "--\n",
            "\n",
            "CREATE TABLE investor (\n",
            "  investor_id SMALLINT UNS...\n",
            "Error: near \"AUTO_INCREMENT\": syntax error\n",
            "Error executing statement: \n",
            "\n",
            "--\n",
            "-- Table structure for table `language`\n",
            "--\n",
            "\n",
            "CREATE TABLE language (\n",
            "  language_id TINYINT UNSIG...\n",
            "Error: near \"AUTO_INCREMENT\": syntax error\n",
            "Error executing statement: \n",
            "\n",
            "--\n",
            "-- Table structure for table `payment`\n",
            "--\n",
            "\n",
            "CREATE TABLE payment (\n",
            "  payment_id SMALLINT UNSIGNE...\n",
            "Error: near \"AUTO_INCREMENT\": syntax error\n",
            "Error executing statement: \n",
            "\n",
            "\n",
            "--\n",
            "-- Table structure for table `rental`\n",
            "--\n",
            "\n",
            "CREATE TABLE rental (\n",
            "  rental_id INT NOT NULL AUTO_...\n",
            "Error: near \"AUTO_INCREMENT\": syntax error\n",
            "Error executing statement: \n",
            "\n",
            "--\n",
            "-- Table structure for table `staff`\n",
            "--\n",
            "\n",
            "CREATE TABLE staff (\n",
            "  staff_id TINYINT UNSIGNED NOT N...\n",
            "Error: near \"AUTO_INCREMENT\": syntax error\n",
            "Error executing statement: \n",
            "\n",
            "--\n",
            "-- Table structure for table `store`\n",
            "--\n",
            "\n",
            "CREATE TABLE store (\n",
            "  store_id TINYINT UNSIGNED NOT N...\n",
            "Error: near \"AUTO_INCREMENT\": syntax error\n",
            "Error executing statement: \n",
            "\n",
            "--\n",
            "-- View structure for view `customer_list`\n",
            "--\n",
            "\n",
            "CREATE VIEW customer_list\n",
            "AS\n",
            "SELECT cu.customer_...\n",
            "Error: near \"' '\": syntax error\n",
            "Error executing statement: \n",
            "\n",
            "--\n",
            "-- View structure for view `film_list`\n",
            "--\n",
            "\n",
            "CREATE VIEW film_list\n",
            "AS\n",
            "SELECT film.film_id AS FID,...\n",
            "Error: near \"' '\": syntax error\n",
            "Error executing statement: \n",
            "\n",
            "--\n",
            "-- View structure for view `nicer_but_slower_film_list`\n",
            "--\n",
            "\n",
            "CREATE VIEW nicer_but_slower_film_l...\n",
            "Error: near \"' '\": syntax error\n",
            "Error executing statement: \n",
            "\n",
            "--\n",
            "-- View structure for view `staff_list`\n",
            "--\n",
            "\n",
            "CREATE VIEW staff_list\n",
            "AS\n",
            "SELECT s.staff_id AS ID, ...\n",
            "Error: near \"' '\": syntax error\n",
            "Error executing statement: \n",
            "\n",
            "--\n",
            "-- View structure for view `sales_by_store`\n",
            "--\n",
            "\n",
            "CREATE VIEW sales_by_store\n",
            "AS\n",
            "SELECT\n",
            "CONCAT(c.c...\n",
            "Error: near \"','\": syntax error\n",
            "Error executing statement: \n",
            "\n",
            "--\n",
            "-- View structure for view `actor_info`\n",
            "--\n",
            "\n",
            "CREATE DEFINER=CURRENT_USER SQL SECURITY INVOKER VI...\n",
            "Error: near \"DEFINER\": syntax error\n",
            "Error executing statement:  ')\n",
            "AS film_info\n",
            "FROM mavenmovies.actor a\n",
            "LEFT JOIN mavenmovies.film_actor fa\n",
            "  ON a.actor_id = fa.a...\n",
            "Error: unrecognized token: \"')\n",
            "AS film_info\n",
            "FROM mavenmovies.actor a\n",
            "LEFT JOIN mavenmovies.film_actor fa\n",
            "  ON a.actor_id = fa.actor_id\n",
            "LEFT JOIN mavenmovies.film_category fc\n",
            "  ON fa.film_id = fc.film_id\n",
            "LEFT JOIN mavenmovies.category c\n",
            "  ON fc.category_id = c.category_id\n",
            "GROUP BY a.actor_id, a.first_name, a.last_name;\"\n",
            "Error executing statement: \n",
            "\n",
            "--\n",
            "-- Procedure structure for procedure `rewards_report`\n",
            "--\n",
            "\n",
            "DELIMITER //\n",
            "\n",
            "CREATE PROCEDURE reward...\n",
            "Error: near \"DELIMITER\": syntax error\n",
            "Error executing statement: \n",
            "    DECLARE last_month_end DATE...\n",
            "Error: near \"DECLARE\": syntax error\n",
            "Error executing statement: \n",
            "\n",
            "    /* Some sanity checks... */\n",
            "    IF min_monthly_purchases = 0 THEN\n",
            "        SELECT 'Minimum mont...\n",
            "Error: near \"IF\": syntax error\n",
            "Error executing statement: \n",
            "        LEAVE proc...\n",
            "Error: near \"LEAVE\": syntax error\n",
            "Error executing statement: \n",
            "    END IF...\n",
            "Error: near \"IF\": syntax error\n",
            "Error executing statement: \n",
            "    IF min_dollar_amount_purchased = 0.00 THEN\n",
            "        SELECT 'Minimum monthly dollar amount purcha...\n",
            "Error: near \"IF\": syntax error\n",
            "Error executing statement: \n",
            "        LEAVE proc...\n",
            "Error: near \"LEAVE\": syntax error\n",
            "Error executing statement: \n",
            "    END IF...\n",
            "Error: near \"IF\": syntax error\n",
            "Error executing statement: \n",
            "\n",
            "    /* Determine start and end time periods */\n",
            "    SET last_month_start = DATE_SUB(CURRENT_DATE(),...\n",
            "Error: near \"SET\": syntax error\n",
            "Error executing statement: \n",
            "    SET last_month_start = STR_TO_DATE(CONCAT(YEAR(last_month_start),'-',MONTH(last_month_start),'-...\n",
            "Error: near \"SET\": syntax error\n",
            "Error executing statement: \n",
            "    SET last_month_end = LAST_DAY(last_month_start)...\n",
            "Error: near \"SET\": syntax error\n",
            "Error executing statement: \n",
            "\n",
            "    /*\n",
            "        Find all customers meeting the\n",
            "        monthly purchase requirements\n",
            "    */\n",
            "    INS...\n",
            "Error: no such table: payment\n",
            "Error executing statement: \n",
            "\n",
            "    /* Populate OUT parameter with count of found customers */\n",
            "    SELECT COUNT(*) FROM tmpCustome...\n",
            "Error: near \"INTO\": syntax error\n",
            "Error executing statement: \n",
            "\n",
            "    /*\n",
            "        Output ALL customer information of matching rewardees.\n",
            "        Customize output as ...\n",
            "Error: no such table: customer\n",
            "Error executing statement: \n",
            "END //\n",
            "\n",
            "DELIMITER ...\n",
            "Error: near \"/\": syntax error\n",
            "Error executing statement: \n",
            "\n",
            "DELIMITER $$\n",
            "\n",
            "CREATE FUNCTION get_customer_balance(p_customer_id INT, p_effective_date DATETIME) R...\n",
            "Error: near \"DELIMITER\": syntax error\n",
            "Error executing statement:  #FEES PAID TO RENT THE VIDEOS INITIALLY\n",
            "  DECLARE v_overfees INTEGER...\n",
            "Error: near \"#FEES\": syntax error\n",
            "Error executing statement:       #LATE FEES FOR PRIOR RENTALS\n",
            "  DECLARE v_payments DECIMAL(5,2)...\n",
            "Error: near \"#LATE\": syntax error\n",
            "Error executing statement:  #SUM OF PAYMENTS MADE PREVIOUSLY\n",
            "\n",
            "  SELECT IFNULL(SUM(film.rental_rate),0) INTO v_rentfees\n",
            "    FROM...\n",
            "Error: near \"#SUM\": syntax error\n",
            "Error executing statement: \n",
            "\n",
            "  SELECT IFNULL(SUM(IF((TO_DAYS(rental.return_date) - TO_DAYS(rental.rental_date)) > film.rental_d...\n",
            "Error: near \"INTO\": syntax error\n",
            "Error executing statement: \n",
            "\n",
            "\n",
            "  SELECT IFNULL(SUM(payment.amount),0) INTO v_payments\n",
            "    FROM payment\n",
            "\n",
            "    WHERE payment.paymen...\n",
            "Error: near \"INTO\": syntax error\n",
            "Error executing statement: \n",
            "\n",
            "  RETURN v_rentfees + v_overfees - v_payments...\n",
            "Error: near \"RETURN\": syntax error\n",
            "Error executing statement: \n",
            "END $$\n",
            "\n",
            "DELIMITER ...\n",
            "Error: near \"$$\": syntax error\n",
            "Error executing statement: \n",
            "\n",
            "DELIMITER $$\n",
            "\n",
            "CREATE PROCEDURE film_in_stock(IN p_film_id INT, IN p_store_id INT, OUT p_film_count...\n",
            "Error: near \"DELIMITER\": syntax error\n",
            "Error executing statement: \n",
            "\n",
            "     SELECT FOUND_ROWS() INTO p_film_count...\n",
            "Error: near \"INTO\": syntax error\n",
            "Error executing statement: \n",
            "END $$\n",
            "\n",
            "DELIMITER ...\n",
            "Error: near \"$$\": syntax error\n",
            "Error executing statement: \n",
            "\n",
            "DELIMITER $$\n",
            "\n",
            "CREATE PROCEDURE film_not_in_stock(IN p_film_id INT, IN p_store_id INT, OUT p_film_c...\n",
            "Error: near \"DELIMITER\": syntax error\n",
            "Error executing statement: \n",
            "\n",
            "     SELECT FOUND_ROWS() INTO p_film_count...\n",
            "Error: near \"INTO\": syntax error\n",
            "Error executing statement: \n",
            "END $$\n",
            "\n",
            "DELIMITER ...\n",
            "Error: near \"$$\": syntax error\n",
            "Error executing statement: \n",
            "\n",
            "DELIMITER $$\n",
            "\n",
            "CREATE FUNCTION inventory_held_by_customer(p_inventory_id INT) RETURNS INT\n",
            "READS SQL...\n",
            "Error: near \"DELIMITER\": syntax error\n",
            "Error executing statement: \n",
            "  DECLARE EXIT HANDLER FOR NOT FOUND RETURN NULL...\n",
            "Error: near \"DECLARE\": syntax error\n",
            "Error executing statement: \n",
            "\n",
            "  SELECT customer_id INTO v_customer_id\n",
            "  FROM rental\n",
            "  WHERE return_date IS NULL\n",
            "  AND inventory_...\n",
            "Error: near \"INTO\": syntax error\n",
            "Error executing statement: \n",
            "\n",
            "  RETURN v_customer_id...\n",
            "Error: near \"RETURN\": syntax error\n",
            "Error executing statement: \n",
            "END $$\n",
            "\n",
            "DELIMITER ...\n",
            "Error: near \"$$\": syntax error\n",
            "Error executing statement: \n",
            "\n",
            "DELIMITER $$\n",
            "\n",
            "CREATE FUNCTION inventory_in_stock(p_inventory_id INT) RETURNS BOOLEAN\n",
            "READS SQL DAT...\n",
            "Error: near \"DELIMITER\": syntax error\n",
            "Error executing statement: \n",
            "    DECLARE v_out     INT...\n",
            "Error: near \"DECLARE\": syntax error\n",
            "Error executing statement: \n",
            "\n",
            "    #AN ITEM IS IN-STOCK IF THERE ARE EITHER NO ROWS IN THE rental TABLE\n",
            "    #FOR THE ITEM OR ALL ...\n",
            "Error: near \"#AN\": syntax error\n",
            "Error executing statement: \n",
            "\n",
            "    IF v_rentals = 0 THEN\n",
            "      RETURN TRUE...\n",
            "Error: near \"IF\": syntax error\n",
            "Error executing statement: \n",
            "    END IF...\n",
            "Error: near \"IF\": syntax error\n",
            "Error executing statement: \n",
            "\n",
            "    SELECT COUNT(rental_id) INTO v_out\n",
            "    FROM inventory LEFT JOIN rental USING(inventory_id)\n",
            "   ...\n",
            "Error: near \"INTO\": syntax error\n",
            "Error executing statement: \n",
            "\n",
            "    IF v_out > 0 THEN\n",
            "      RETURN FALSE...\n",
            "Error: near \"IF\": syntax error\n",
            "Error executing statement: \n",
            "    ELSE\n",
            "      RETURN TRUE...\n",
            "Error: near \"ELSE\": syntax error\n",
            "Error executing statement: \n",
            "    END IF...\n",
            "Error: near \"IF\": syntax error\n",
            "Error executing statement: \n",
            "END $$\n",
            "\n",
            "DELIMITER ...\n",
            "Error: near \"$$\": syntax error\n",
            "Error executing statement: \n",
            "SET FOREIGN_KEY_CHECKS=@OLD_FOREIGN_KEY_CHECKS...\n",
            "Error: near \"SET\": syntax error\n",
            "Error executing statement: \n",
            "SET UNIQUE_CHECKS=@OLD_UNIQUE_CHECKS...\n",
            "Error: near \"SET\": syntax error\n",
            "Error executing statement:  LOSS OF USE, DATA, OR PROFITS...\n",
            "Error: near \"LOSS\": syntax error\n",
            "Error executing statement:  OR BUSINESS INTERRUPTION) HOWEVER CAUSED AND ON ANY THEORY OF LIABILITY, WHETHER IN CONTRACT, STRIC...\n",
            "Error: near \"OR\": syntax error\n",
            "Error executing statement: \n",
            "SET @OLD_FOREIGN_KEY_CHECKS=@@FOREIGN_KEY_CHECKS, FOREIGN_KEY_CHECKS=0...\n",
            "Error: near \"SET\": syntax error\n",
            "Error executing statement: \n",
            "\n",
            "USE mavenmovies...\n",
            "Error: near \"USE\": syntax error\n",
            "Error executing statement: \n",
            "\n",
            "--\n",
            "-- Dumping data for table actor\n",
            "--\n",
            "\n",
            "SET AUTOCOMMIT=0...\n",
            "Error: near \"SET\": syntax error\n",
            "Error executing statement: \n",
            "INSERT INTO actor VALUES (1,'PENELOPE','GUINESS','2006-02-15 04:34:33'),\n",
            "(2,'NICK','WAHLBERG','2006...\n",
            "Error: no such table: actor\n",
            "Error executing statement: \n",
            "COMMIT...\n",
            "Error: cannot commit - no transaction is active\n",
            "Error executing statement: \n",
            "\n",
            "--\n",
            "-- Dumping data for table actor_award\n",
            "--\n",
            "\n",
            "SET AUTOCOMMIT=0...\n",
            "Error: near \"SET\": syntax error\n",
            "Error executing statement: \n",
            "INSERT INTO actor_award VALUES \n",
            "(1,12,'KARL','BERRY','Emmy, Oscar, Tony ','2006-02-15 04:34:33'),\n",
            "(...\n",
            "Error: no such table: actor_award\n",
            "Error executing statement: \n",
            "COMMIT...\n",
            "Error: cannot commit - no transaction is active\n",
            "Error executing statement: \n",
            "\n",
            "--\n",
            "-- Dumping data for table address\n",
            "--\n",
            "\n",
            "SET AUTOCOMMIT=0...\n",
            "Error: near \"SET\": syntax error\n",
            "Error executing statement: \n",
            "INSERT INTO `address` VALUES (1,'47 MySakila Drive',NULL,'Alberta',300,'','',/* !50705 0x0000000001...\n",
            "Error: no such table: address\n",
            "Error executing statement: \n",
            "COMMIT...\n",
            "Error: cannot commit - no transaction is active\n",
            "Error executing statement: \n",
            "\n",
            "--\n",
            "-- Dumping data for table advisor\n",
            "--\n",
            "\n",
            "SET AUTOCOMMIT=0...\n",
            "Error: near \"SET\": syntax error\n",
            "Error executing statement: \n",
            "INSERT INTO advisor VALUES (1,'Barry','Beenthere',1),\n",
            "(2,'Cindy','Smartypants',0),\n",
            "(3,'Mary','Money...\n",
            "Error: no such table: advisor\n",
            "Error executing statement: \n",
            "COMMIT...\n",
            "Error: cannot commit - no transaction is active\n",
            "Error executing statement: \n",
            "\n",
            "--\n",
            "-- Dumping data for table category\n",
            "--\n",
            "\n",
            "SET AUTOCOMMIT=0...\n",
            "Error: near \"SET\": syntax error\n",
            "Error executing statement: \n",
            "INSERT INTO category VALUES (1,'Action','2006-02-15 04:46:27'),\n",
            "(2,'Animation','2006-02-15 04:46:27...\n",
            "Error: no such table: category\n",
            "Error executing statement: \n",
            "COMMIT...\n",
            "Error: cannot commit - no transaction is active\n",
            "Error executing statement: \n",
            "\n",
            "--\n",
            "-- Dumping data for table city\n",
            "--\n",
            "\n",
            "SET AUTOCOMMIT=0...\n",
            "Error: near \"SET\": syntax error\n",
            "Error executing statement: \n",
            "INSERT INTO city VALUES (1,'A Corua (La Corua)',87,'2006-02-15 04:45:25'),\n",
            "(2,'Abha',82,'2006-02-15...\n",
            "Error: no such table: city\n",
            "Error executing statement: \n",
            "COMMIT...\n",
            "Error: cannot commit - no transaction is active\n",
            "Error executing statement: \n",
            "\n",
            "--\n",
            "-- Dumping data for table country\n",
            "--\n",
            "\n",
            "SET AUTOCOMMIT=0...\n",
            "Error: near \"SET\": syntax error\n",
            "Error executing statement: \n",
            "INSERT INTO country VALUES (1,'Afghanistan','2006-02-15 04:44:00'),\n",
            "(2,'Algeria','2006-02-15 04:44:...\n",
            "Error: no such table: country\n",
            "Error executing statement: \n",
            "COMMIT...\n",
            "Error: cannot commit - no transaction is active\n",
            "Error executing statement: \n",
            "\n",
            "--\n",
            "-- Dumping data for table customer\n",
            "--\n",
            "\n",
            "SET AUTOCOMMIT=0...\n",
            "Error: near \"SET\": syntax error\n",
            "Error executing statement: \n",
            "INSERT INTO customer VALUES (1,1,'MARY','SMITH','MARY.SMITH@sakilacustomer.org',5,1,'2006-02-14 22:...\n",
            "Error: no such table: customer\n",
            "Error executing statement: \n",
            "COMMIT...\n",
            "Error: cannot commit - no transaction is active\n",
            "Error executing statement: \n",
            "\n",
            "--\n",
            "-- Trigger to enforce create dates on INSERT\n",
            "--\n",
            "\n",
            "CREATE TRIGGER customer_create_date BEFORE INS...\n",
            "Error: near \"SET\": syntax error\n",
            "Error executing statement: \n",
            "\n",
            "--\n",
            "-- Dumping data for table film\n",
            "--\n",
            "\n",
            "SET AUTOCOMMIT=0...\n",
            "Error: near \"SET\": syntax error\n",
            "Error executing statement: \n",
            "INSERT INTO film VALUES (1,'ACADEMY DINOSAUR','A Epic Drama of a Feminist And a Mad Scientist who m...\n",
            "Error: no such table: film\n",
            "Error executing statement: \n",
            "COMMIT...\n",
            "Error: cannot commit - no transaction is active\n",
            "Error executing statement: \n",
            "\n",
            "--\n",
            "-- Dumping data for table film_actor\n",
            "--\n",
            "\n",
            "SET AUTOCOMMIT=0...\n",
            "Error: near \"SET\": syntax error\n",
            "Error executing statement: \n",
            "INSERT INTO film_actor VALUES (1,1,'2006-02-15 05:05:03'),\n",
            "(1,23,'2006-02-15 05:05:03'),\n",
            "(1,25,'200...\n",
            "Error: no such table: film_actor\n",
            "Error executing statement: \n",
            "COMMIT...\n",
            "Error: cannot commit - no transaction is active\n",
            "Error executing statement: \n",
            "\n",
            "--\n",
            "-- Dumping data for table film_category\n",
            "--\n",
            "\n",
            "SET AUTOCOMMIT=0...\n",
            "Error: near \"SET\": syntax error\n",
            "Error executing statement: \n",
            "INSERT INTO film_category VALUES (1,6,'2006-02-15 05:07:09'),\n",
            "(2,11,'2006-02-15 05:07:09'),\n",
            "(3,6,'2...\n",
            "Error: no such table: film_category\n",
            "Error executing statement: \n",
            "COMMIT...\n",
            "Error: cannot commit - no transaction is active\n",
            "Error executing statement: \n",
            "\n",
            "--\n",
            "-- Dumping data for table inventory\n",
            "--\n",
            "\n",
            "SET AUTOCOMMIT=0...\n",
            "Error: near \"SET\": syntax error\n",
            "Error executing statement: \n",
            "INSERT INTO inventory VALUES (1,1,1,'2006-02-15 05:09:17'),\n",
            "(2,1,1,'2006-02-15 05:09:17'),\n",
            "(3,1,1,'...\n",
            "Error: no such table: inventory\n",
            "Error executing statement: \n",
            "COMMIT...\n",
            "Error: cannot commit - no transaction is active\n",
            "Error executing statement: \n",
            "\n",
            "--\n",
            "-- Dumping data for table investor\n",
            "--\n",
            "\n",
            "SET AUTOCOMMIT=0...\n",
            "Error: near \"SET\": syntax error\n",
            "Error executing statement: \n",
            "INSERT INTO investor VALUES (1,'Montgomery','Burns','Springfield Syndicators'),\n",
            "(2,'Anthony','Stark...\n",
            "Error: no such table: investor\n",
            "Error executing statement: \n",
            "COMMIT...\n",
            "Error: cannot commit - no transaction is active\n",
            "Error executing statement: \n",
            "\n",
            "\n",
            "--\n",
            "-- Dumping data for table language\n",
            "--\n",
            "\n",
            "SET AUTOCOMMIT=0...\n",
            "Error: near \"SET\": syntax error\n",
            "Error executing statement: \n",
            "INSERT INTO language VALUES (1,'English','2006-02-15 05:02:19'),\n",
            "(2,'Italian','2006-02-15 05:02:19'...\n",
            "Error: no such table: language\n",
            "Error executing statement: \n",
            "COMMIT...\n",
            "Error: cannot commit - no transaction is active\n",
            "Error executing statement: \n",
            "\n",
            "--\n",
            "-- Dumping data for table payment\n",
            "--\n",
            "\n",
            "SET AUTOCOMMIT=0...\n",
            "Error: near \"SET\": syntax error\n",
            "Error executing statement: \n",
            "INSERT INTO payment VALUES (1,1,1,76,'2.99','2005-05-25 11:30:37','2006-02-15 22:12:30'),\n",
            "(2,1,1,57...\n",
            "Error: no such table: payment\n",
            "Error executing statement: \n",
            "INSERT INTO payment VALUES (14886,555,2,12182,'2.99','2005-08-18 01:30:19','2006-02-15 22:21:53'),\n",
            "...\n",
            "Error: no such table: payment\n",
            "Error executing statement: \n",
            "COMMIT...\n",
            "Error: cannot commit - no transaction is active\n",
            "Error executing statement: \n",
            "\n",
            "--\n",
            "-- Trigger to enforce payment_date during INSERT\n",
            "--\n",
            "\n",
            "CREATE TRIGGER payment_date BEFORE INSERT ...\n",
            "Error: near \"SET\": syntax error\n",
            "Error executing statement: \n",
            "\n",
            "--\n",
            "-- Dumping data for table rental\n",
            "--\n",
            "\n",
            "SET AUTOCOMMIT=0...\n",
            "Error: near \"SET\": syntax error\n",
            "Error executing statement: \n",
            "INSERT INTO rental VALUES (1,'2005-05-24 22:53:30',367,130,'2005-05-26 22:04:30',1,'2006-02-15 21:3...\n",
            "Error: no such table: rental\n",
            "Error executing statement: \n",
            "INSERT INTO rental VALUES (12382,'2005-08-18 08:32:33',3049,566,'2005-08-26 03:45:33',2,'2006-02-15...\n",
            "Error: no such table: rental\n",
            "Error executing statement: \n",
            "COMMIT...\n",
            "Error: cannot commit - no transaction is active\n",
            "Error executing statement: \n",
            "\n",
            "--\n",
            "-- Trigger to enforce rental_date on INSERT\n",
            "--\n",
            "\n",
            "CREATE TRIGGER rental_date BEFORE INSERT ON ren...\n",
            "Error: near \"SET\": syntax error\n",
            "Error executing statement: \n",
            "\n",
            "--\n",
            "-- Dumping data for table staff\n",
            "--\n",
            "\n",
            "SET AUTOCOMMIT=0...\n",
            "Error: near \"SET\": syntax error\n",
            "Error executing statement: \n",
            "\n",
            "--\n",
            "-- Dumping data for table `staff`\n",
            "--\n",
            "\n",
            "LOCK TABLES `staff` WRITE...\n",
            "Error: near \"LOCK\": syntax error\n",
            "Error executing statement: \n",
            "INSERT INTO `staff` VALUES (1,'Mike','Hillyer',3,0x89504E470D0A1A0A0000000D494844520000007900000075...\n",
            "Error: no such table: staff\n",
            "Error executing statement: \n",
            "UNLOCK TABLES...\n",
            "Error: near \"UNLOCK\": syntax error\n",
            "Error executing statement: \n",
            "COMMIT...\n",
            "Error: cannot commit - no transaction is active\n",
            "Error executing statement: \n",
            "\n",
            "--\n",
            "-- Dumping data for table store\n",
            "--\n",
            "\n",
            "SET AUTOCOMMIT=0...\n",
            "Error: near \"SET\": syntax error\n",
            "Error executing statement: \n",
            "INSERT INTO store VALUES (1,1,1,'2006-02-15 04:57:12'),\n",
            "(2,2,2,'2006-02-15 04:57:12')...\n",
            "Error: no such table: store\n",
            "Error executing statement: \n",
            "COMMIT...\n",
            "Error: cannot commit - no transaction is active\n",
            "Error executing statement: \n",
            "SET FOREIGN_KEY_CHECKS=@OLD_FOREIGN_KEY_CHECKS...\n",
            "Error: near \"SET\": syntax error\n",
            "Error executing statement: \n",
            "SET UNIQUE_CHECKS=@OLD_UNIQUE_CHECKS...\n",
            "Error: near \"SET\": syntax error\n"
          ]
        }
      ]
    },
    {
      "cell_type": "markdown",
      "source": [
        "2.Retrieve the total number of rentals made in the Sakila database.\n",
        "\n"
      ],
      "metadata": {
        "id": "BjeIXNFS-q1B"
      }
    },
    {
      "cell_type": "code",
      "source": [
        "#code\n",
        "%%sql\n",
        "SELECT AVG(rental_duration) AS AverageRentalDurationInDays\n",
        "FROM film;"
      ],
      "metadata": {
        "colab": {
          "base_uri": "https://localhost:8080/"
        },
        "id": "Wp1u86p6-uys",
        "outputId": "a8f9c354-1a03-4ac2-a6ab-de877a56dbd2"
      },
      "execution_count": 8,
      "outputs": [
        {
          "output_type": "stream",
          "name": "stdout",
          "text": [
            " * sqlite:///:memory:\n",
            "(sqlite3.OperationalError) no such table: film\n",
            "[SQL: SELECT AVG(rental_duration) AS AverageRentalDurationInDays\n",
            "FROM film;]\n",
            "(Background on this error at: https://sqlalche.me/e/20/e3q8)\n"
          ]
        }
      ]
    },
    {
      "cell_type": "markdown",
      "source": [
        "3.Display the first name and last name of customers in uppercase."
      ],
      "metadata": {
        "id": "XHnSrB0r_GXA"
      }
    },
    {
      "cell_type": "code",
      "source": [
        "#code\n",
        "%%sql\n",
        "SELECT UPPER(first_name) AS uppercase_first_name,\n",
        "       UPPER(last_name) AS uppercase_last_name\n",
        "FROM customer;"
      ],
      "metadata": {
        "colab": {
          "base_uri": "https://localhost:8080/"
        },
        "id": "YwbB0kQz-9DN",
        "outputId": "0155b524-7645-48b2-b21b-6cd3ec62b87e"
      },
      "execution_count": 11,
      "outputs": [
        {
          "output_type": "stream",
          "name": "stdout",
          "text": [
            " * sqlite:///:memory:\n",
            "(sqlite3.OperationalError) no such table: customer\n",
            "[SQL: SELECT UPPER(first_name) AS uppercase_first_name,\n",
            "       UPPER(last_name) AS uppercase_last_name\n",
            "FROM customer;]\n",
            "(Background on this error at: https://sqlalche.me/e/20/e3q8)\n"
          ]
        }
      ]
    },
    {
      "cell_type": "markdown",
      "source": [
        "4.Extract the month from the rental date and display it alongside the rental ID."
      ],
      "metadata": {
        "id": "Qlpbpfkl_X9H"
      }
    },
    {
      "cell_type": "code",
      "source": [
        "#code\n",
        "%%sql\n",
        "SELECT\n",
        "    rental_id,\n",
        "    strftime('%M', rental_date) AS rental_month\n",
        "FROM\n",
        "    rental;"
      ],
      "metadata": {
        "colab": {
          "base_uri": "https://localhost:8080/"
        },
        "id": "_Cj1O0bS_TbT",
        "outputId": "b5a8ff2f-db80-4255-8da1-57d112c12f45"
      },
      "execution_count": 13,
      "outputs": [
        {
          "output_type": "stream",
          "name": "stdout",
          "text": [
            " * sqlite:///:memory:\n",
            "(sqlite3.OperationalError) no such table: rental\n",
            "[SQL: SELECT\n",
            "    rental_id,\n",
            "    strftime('%M', rental_date) AS rental_month\n",
            "FROM\n",
            "    rental;]\n",
            "(Background on this error at: https://sqlalche.me/e/20/e3q8)\n"
          ]
        }
      ]
    },
    {
      "cell_type": "markdown",
      "source": [
        "5.Retrieve the count of rentals for each customer (display customer ID and the count of rentals)."
      ],
      "metadata": {
        "id": "RHWPGasg_knH"
      }
    },
    {
      "cell_type": "code",
      "source": [
        "#code\n",
        "%%sql\n",
        "SELECT\n",
        "    c.customer_id,\n",
        "    COUNT(r.rental_id) AS rental_count\n",
        "FROM\n",
        "    customer c\n",
        "JOIN\n",
        "    rental r ON c.customer_id = r.customer_id\n",
        "GROUP BY\n",
        "    c.customer_id\n",
        "ORDER BY\n",
        "    c.customer_id;"
      ],
      "metadata": {
        "colab": {
          "base_uri": "https://localhost:8080/"
        },
        "id": "_bHUdBkP_epi",
        "outputId": "65efba89-4125-494a-e224-88faada5e98b"
      },
      "execution_count": 15,
      "outputs": [
        {
          "output_type": "stream",
          "name": "stdout",
          "text": [
            " * sqlite:///:memory:\n",
            "(sqlite3.OperationalError) no such table: customer\n",
            "[SQL: SELECT\n",
            "    c.customer_id,\n",
            "    COUNT(r.rental_id) AS rental_count\n",
            "FROM\n",
            "    customer c\n",
            "JOIN\n",
            "    rental r ON c.customer_id = r.customer_id\n",
            "GROUP BY\n",
            "    c.customer_id\n",
            "ORDER BY\n",
            "    c.customer_id;]\n",
            "(Background on this error at: https://sqlalche.me/e/20/e3q8)\n"
          ]
        }
      ]
    },
    {
      "cell_type": "markdown",
      "source": [
        "6.Find the total revenue generated by each store."
      ],
      "metadata": {
        "id": "vMqk6wUZ_xcO"
      }
    },
    {
      "cell_type": "code",
      "source": [
        "#code\n",
        "%%sql\n",
        "SELECT\n",
        "    store_name,\n",
        "    SUM(price * quantity * (1 - discount)) AS total_revenue\n",
        "FROM\n",
        "    sales\n",
        "GROUP BY\n",
        "    store_name\n",
        "ORDER BY\n",
        "    total_revenue DESC, store_name ASC;"
      ],
      "metadata": {
        "colab": {
          "base_uri": "https://localhost:8080/"
        },
        "id": "U1l9dC_0_qNi",
        "outputId": "7d0e242f-8c9b-4ae6-b658-1e39676fb9f8"
      },
      "execution_count": 17,
      "outputs": [
        {
          "output_type": "stream",
          "name": "stdout",
          "text": [
            " * sqlite:///:memory:\n",
            "(sqlite3.OperationalError) no such table: sales\n",
            "[SQL: SELECT\n",
            "    store_name,\n",
            "    SUM(price * quantity * (1 - discount)) AS total_revenue\n",
            "FROM\n",
            "    sales\n",
            "GROUP BY\n",
            "    store_name\n",
            "ORDER BY\n",
            "    total_revenue DESC, store_name ASC;]\n",
            "(Background on this error at: https://sqlalche.me/e/20/e3q8)\n"
          ]
        }
      ]
    },
    {
      "cell_type": "markdown",
      "source": [
        "7.Determine the total number of rentals for each category of movies."
      ],
      "metadata": {
        "id": "qtl1Ke1eAAqF"
      }
    },
    {
      "cell_type": "code",
      "source": [
        "#code\n",
        "%%sql\n",
        "SELECT\n",
        "    c.name AS category_name,\n",
        "    COUNT(r.rental_id) AS total_rentals\n",
        "FROM\n",
        "    category AS c\n",
        "JOIN\n",
        "    film_category AS fc ON c.category_id = fc.category_id\n",
        "JOIN\n",
        "    film AS f ON fc.film_id = f.film_id\n",
        "JOIN\n",
        "    inventory AS i ON f.film_id = i.film_id\n",
        "JOIN\n",
        "    rental AS r ON i.inventory_id = r.inventory_id\n",
        "GROUP BY\n",
        "    c.name\n",
        "ORDER BY\n",
        "    total_rentals DESC;"
      ],
      "metadata": {
        "colab": {
          "base_uri": "https://localhost:8080/"
        },
        "id": "LrKuFrMC_5kR",
        "outputId": "1cad50bc-60e9-4a24-875c-950210cb16e6"
      },
      "execution_count": 19,
      "outputs": [
        {
          "output_type": "stream",
          "name": "stdout",
          "text": [
            " * sqlite:///:memory:\n",
            "(sqlite3.OperationalError) no such table: category\n",
            "[SQL: SELECT\n",
            "    c.name AS category_name,\n",
            "    COUNT(r.rental_id) AS total_rentals\n",
            "FROM\n",
            "    category AS c\n",
            "JOIN\n",
            "    film_category AS fc ON c.category_id = fc.category_id\n",
            "JOIN\n",
            "    film AS f ON fc.film_id = f.film_id\n",
            "JOIN\n",
            "    inventory AS i ON f.film_id = i.film_id\n",
            "JOIN\n",
            "    rental AS r ON i.inventory_id = r.inventory_id\n",
            "GROUP BY\n",
            "    c.name\n",
            "ORDER BY\n",
            "    total_rentals DESC;]\n",
            "(Background on this error at: https://sqlalche.me/e/20/e3q8)\n"
          ]
        }
      ]
    },
    {
      "cell_type": "markdown",
      "source": [
        "8.Find the average rental rate of movies in each language."
      ],
      "metadata": {
        "id": "v94eLM5zAN1N"
      }
    },
    {
      "cell_type": "code",
      "source": [
        "#code\n",
        "%%sql\n",
        "SELECT\n",
        "    l.name AS language_name,\n",
        "    AVG(f.rental_rate) AS average_rental_rate\n",
        "FROM\n",
        "    film AS f\n",
        "JOIN\n",
        "    language AS l ON f.language_id = l.language_id\n",
        "GROUP BY\n",
        "    l.name;"
      ],
      "metadata": {
        "colab": {
          "base_uri": "https://localhost:8080/"
        },
        "id": "FpCNDVa7AG3g",
        "outputId": "2fb52620-d729-42ed-cc01-ddbc4963eabc"
      },
      "execution_count": 21,
      "outputs": [
        {
          "output_type": "stream",
          "name": "stdout",
          "text": [
            " * sqlite:///:memory:\n",
            "(sqlite3.OperationalError) no such table: film\n",
            "[SQL: SELECT\n",
            "    l.name AS language_name,\n",
            "    AVG(f.rental_rate) AS average_rental_rate\n",
            "FROM\n",
            "    film AS f\n",
            "JOIN\n",
            "    language AS l ON f.language_id = l.language_id\n",
            "GROUP BY\n",
            "    l.name;]\n",
            "(Background on this error at: https://sqlalche.me/e/20/e3q8)\n"
          ]
        }
      ]
    },
    {
      "cell_type": "markdown",
      "source": [
        "#Joins"
      ],
      "metadata": {
        "id": "LTrRqcpxAcHU"
      }
    },
    {
      "cell_type": "markdown",
      "source": [
        "9.Display the title of the movie, customer s first name, and last name who rented it."
      ],
      "metadata": {
        "id": "l9JusAi0AdbU"
      }
    },
    {
      "cell_type": "code",
      "source": [
        "#code\n",
        "%%sql\n",
        "SELECT\n",
        "    f.title,\n",
        "    c.first_name,\n",
        "    c.last_name\n",
        "FROM\n",
        "    film AS f\n",
        "INNER JOIN\n",
        "    inventory AS i ON f.film_id = i.film_id\n",
        "INNER JOIN\n",
        "    rental AS r ON i.inventory_id = r.inventory_id\n",
        "INNER JOIN\n",
        "    customer AS c ON r.customer_id = c.customer_id;"
      ],
      "metadata": {
        "colab": {
          "base_uri": "https://localhost:8080/"
        },
        "id": "YaaxiA4UATNA",
        "outputId": "8dc77ae0-90d2-4b04-e74f-d299f1215047"
      },
      "execution_count": 23,
      "outputs": [
        {
          "output_type": "stream",
          "name": "stdout",
          "text": [
            " * sqlite:///:memory:\n",
            "(sqlite3.OperationalError) no such table: film\n",
            "[SQL: SELECT\n",
            "    f.title,\n",
            "    c.first_name,\n",
            "    c.last_name\n",
            "FROM\n",
            "    film AS f\n",
            "INNER JOIN\n",
            "    inventory AS i ON f.film_id = i.film_id\n",
            "INNER JOIN\n",
            "    rental AS r ON i.inventory_id = r.inventory_id\n",
            "INNER JOIN\n",
            "    customer AS c ON r.customer_id = c.customer_id;]\n",
            "(Background on this error at: https://sqlalche.me/e/20/e3q8)\n"
          ]
        }
      ]
    },
    {
      "cell_type": "markdown",
      "source": [
        "10.Retrieve the names of all actors who have appeared in the film \"Gone with the Wind.\""
      ],
      "metadata": {
        "id": "X-8TgoCjAuvD"
      }
    },
    {
      "cell_type": "code",
      "source": [
        "#code\n",
        "%%sql\n",
        "SELECT\n",
        "    A.first_name, A.last_name\n",
        "FROM\n",
        "    actor AS A\n",
        "JOIN\n",
        "    film_actor AS FA ON A.actor_id = FA.actor_id\n",
        "JOIN\n",
        "    film AS F ON FA.film_id = F.film_id\n",
        "WHERE\n",
        "    F.title = 'Gone with the Wind';"
      ],
      "metadata": {
        "colab": {
          "base_uri": "https://localhost:8080/"
        },
        "id": "N7xeOvF7An-3",
        "outputId": "dda8a253-1c8b-4915-c341-2a9989ad2337"
      },
      "execution_count": 27,
      "outputs": [
        {
          "output_type": "stream",
          "name": "stdout",
          "text": [
            " * sqlite:///:memory:\n",
            "(sqlite3.OperationalError) no such table: actor\n",
            "[SQL: SELECT\n",
            "    A.first_name, A.last_name\n",
            "FROM\n",
            "    actor AS A\n",
            "JOIN\n",
            "    film_actor AS FA ON A.actor_id = FA.actor_id\n",
            "JOIN\n",
            "    film AS F ON FA.film_id = F.film_id\n",
            "WHERE\n",
            "    F.title = 'Gone with the Wind';]\n",
            "(Background on this error at: https://sqlalche.me/e/20/e3q8)\n"
          ]
        }
      ]
    },
    {
      "cell_type": "markdown",
      "source": [
        "11.Retrieve the customer names along with the total amount they've spent on rentals."
      ],
      "metadata": {
        "id": "NAPNFIguBQiy"
      }
    },
    {
      "cell_type": "code",
      "source": [
        "#code\n",
        "%%sql\n",
        "SELECT\n",
        "    c.first_name,\n",
        "    c.last_name,\n",
        "    SUM(p.amount) AS total_rental_amount\n",
        "FROM\n",
        "    customer AS c\n",
        "JOIN\n",
        "    rental AS r ON c.customer_id = r.customer_id\n",
        "JOIN\n",
        "    payment AS p ON r.rental_id = p.rental_id\n",
        "GROUP BY\n",
        "    c.customer_id, c.first_name, c.last_name\n",
        "ORDER BY\n",
        "    total_rental_amount DESC;"
      ],
      "metadata": {
        "colab": {
          "base_uri": "https://localhost:8080/"
        },
        "id": "rUTNz2-CBWFJ",
        "outputId": "b22cbc3b-41d3-428c-d6fc-0c9096c7c6c6"
      },
      "execution_count": 29,
      "outputs": [
        {
          "output_type": "stream",
          "name": "stdout",
          "text": [
            " * sqlite:///:memory:\n",
            "(sqlite3.OperationalError) no such table: customer\n",
            "[SQL: SELECT\n",
            "    c.first_name,\n",
            "    c.last_name,\n",
            "    SUM(p.amount) AS total_rental_amount\n",
            "FROM\n",
            "    customer AS c\n",
            "JOIN\n",
            "    rental AS r ON c.customer_id = r.customer_id\n",
            "JOIN\n",
            "    payment AS p ON r.rental_id = p.rental_id\n",
            "GROUP BY\n",
            "    c.customer_id, c.first_name, c.last_name\n",
            "ORDER BY\n",
            "    total_rental_amount DESC;]\n",
            "(Background on this error at: https://sqlalche.me/e/20/e3q8)\n"
          ]
        }
      ]
    },
    {
      "cell_type": "markdown",
      "source": [
        "12.List the titles of movies rented by each customer in a particular city (e.g., 'London')."
      ],
      "metadata": {
        "id": "lEGe8TszBh5p"
      }
    },
    {
      "cell_type": "code",
      "source": [
        "#code\n",
        "%%sql\n",
        "SELECT\n",
        "    c.first_name,\n",
        "    c.last_name,\n",
        "    f.title\n",
        "FROM\n",
        "    customer AS c\n",
        "JOIN\n",
        "    address AS a ON c.address_id = a.address_id\n",
        "JOIN\n",
        "    city AS ci ON a.city_id = ci.city_id\n",
        "JOIN\n",
        "    rental AS r ON c.customer_id = r.customer_id\n",
        "JOIN\n",
        "    inventory AS i ON r.inventory_id = i.inventory_id\n",
        "JOIN\n",
        "    film AS f ON i.film_id = f.film_id\n",
        "WHERE\n",
        "    ci.city = 'London'\n",
        "ORDER BY\n",
        "    c.first_name, c.last_name, f.title;"
      ],
      "metadata": {
        "colab": {
          "base_uri": "https://localhost:8080/"
        },
        "id": "EhaI4yd9BbLk",
        "outputId": "4239ec13-d050-4e1a-ade9-84cf9ce4c887"
      },
      "execution_count": 31,
      "outputs": [
        {
          "output_type": "stream",
          "name": "stdout",
          "text": [
            " * sqlite:///:memory:\n",
            "(sqlite3.OperationalError) no such table: customer\n",
            "[SQL: SELECT\n",
            "    c.first_name,\n",
            "    c.last_name,\n",
            "    f.title\n",
            "FROM\n",
            "    customer AS c\n",
            "JOIN\n",
            "    address AS a ON c.address_id = a.address_id\n",
            "JOIN\n",
            "    city AS ci ON a.city_id = ci.city_id\n",
            "JOIN\n",
            "    rental AS r ON c.customer_id = r.customer_id\n",
            "JOIN\n",
            "    inventory AS i ON r.inventory_id = i.inventory_id\n",
            "JOIN\n",
            "    film AS f ON i.film_id = f.film_id\n",
            "WHERE\n",
            "    ci.city = 'London'\n",
            "ORDER BY\n",
            "    c.first_name, c.last_name, f.title;]\n",
            "(Background on this error at: https://sqlalche.me/e/20/e3q8)\n"
          ]
        }
      ]
    },
    {
      "cell_type": "markdown",
      "source": [
        "#Advanced Joins and GROUP BY:"
      ],
      "metadata": {
        "id": "1Y4aBKegB0HI"
      }
    },
    {
      "cell_type": "markdown",
      "source": [
        "13.Display the top 5 rented movies along with the number of times they've been rented."
      ],
      "metadata": {
        "id": "vmtVHlGoB3JA"
      }
    },
    {
      "cell_type": "code",
      "source": [
        "#code\n",
        "%%sql\n",
        "SELECT\n",
        "    f.title AS movie_title,\n",
        "    COUNT(r.rental_id) AS rental_count\n",
        "FROM\n",
        "    film AS f\n",
        "JOIN\n",
        "    inventory AS i ON f.film_id = i.film_id\n",
        "JOIN\n",
        "    rental AS r ON i.inventory_id = r.inventory_id\n",
        "GROUP BY\n",
        "    f.title\n",
        "ORDER BY\n",
        "    rental_count DESC\n",
        "LIMIT 5;"
      ],
      "metadata": {
        "colab": {
          "base_uri": "https://localhost:8080/"
        },
        "id": "4GjGMA0BBvoE",
        "outputId": "9d4d8ae0-1407-4f14-e8b7-5000743c50f1"
      },
      "execution_count": 33,
      "outputs": [
        {
          "output_type": "stream",
          "name": "stdout",
          "text": [
            " * sqlite:///:memory:\n",
            "(sqlite3.OperationalError) no such table: film\n",
            "[SQL: SELECT\n",
            "    f.title AS movie_title,\n",
            "    COUNT(r.rental_id) AS rental_count\n",
            "FROM\n",
            "    film AS f\n",
            "JOIN\n",
            "    inventory AS i ON f.film_id = i.film_id\n",
            "JOIN\n",
            "    rental AS r ON i.inventory_id = r.inventory_id\n",
            "GROUP BY\n",
            "    f.title\n",
            "ORDER BY\n",
            "    rental_count DESC\n",
            "LIMIT 5;]\n",
            "(Background on this error at: https://sqlalche.me/e/20/e3q8)\n"
          ]
        }
      ]
    },
    {
      "cell_type": "markdown",
      "source": [
        "14.Determine the customers who have rented movies from both stores (store ID 1 and store ID 2)."
      ],
      "metadata": {
        "id": "hy3whpsNCHFX"
      }
    },
    {
      "cell_type": "code",
      "source": [
        "#code\n",
        "%%sql\n",
        "SELECT\n",
        "    c.customer_id,\n",
        "    c.first_name,\n",
        "    c.last_name\n",
        "FROM\n",
        "    customer AS c\n",
        "JOIN\n",
        "    rental AS r ON c.customer_id = r.customer_id\n",
        "JOIN\n",
        "    inventory AS i ON r.inventory_id = i.inventory_id\n",
        "WHERE\n",
        "    i.store_id IN (1, 2)\n",
        "GROUP BY\n",
        "    c.customer_id, c.first_name, c.last_name\n",
        "HAVING\n",
        "    COUNT(DISTINCT i.store_id) = 2;"
      ],
      "metadata": {
        "colab": {
          "base_uri": "https://localhost:8080/"
        },
        "id": "3FJm2cwSB_xD",
        "outputId": "ad1c6d29-39a8-413b-ff59-3fa9fee946e8"
      },
      "execution_count": 35,
      "outputs": [
        {
          "output_type": "stream",
          "name": "stdout",
          "text": [
            " * sqlite:///:memory:\n",
            "(sqlite3.OperationalError) no such table: customer\n",
            "[SQL: SELECT\n",
            "    c.customer_id,\n",
            "    c.first_name,\n",
            "    c.last_name\n",
            "FROM\n",
            "    customer AS c\n",
            "JOIN\n",
            "    rental AS r ON c.customer_id = r.customer_id\n",
            "JOIN\n",
            "    inventory AS i ON r.inventory_id = i.inventory_id\n",
            "WHERE\n",
            "    i.store_id IN (1, 2)\n",
            "GROUP BY\n",
            "    c.customer_id, c.first_name, c.last_name\n",
            "HAVING\n",
            "    COUNT(DISTINCT i.store_id) = 2;]\n",
            "(Background on this error at: https://sqlalche.me/e/20/e3q8)\n"
          ]
        }
      ]
    },
    {
      "cell_type": "markdown",
      "source": [
        "#Windows Function:"
      ],
      "metadata": {
        "id": "7PKpLZMWCU5e"
      }
    },
    {
      "cell_type": "markdown",
      "source": [
        "1.Rank the customers based on the total amount they've spent on rentals."
      ],
      "metadata": {
        "id": "Sm1Kz1sHCXZ2"
      }
    },
    {
      "cell_type": "code",
      "source": [
        "#code\n",
        "%%sql\n",
        "SELECT\n",
        "    c.customer_id,\n",
        "    c.first_name,\n",
        "    c.last_name,\n",
        "    SUM(p.amount) AS total_spent\n",
        "FROM\n",
        "    customer c\n",
        "JOIN\n",
        "    payment p ON c.customer_id = p.customer_id\n",
        "GROUP BY\n",
        "    c.customer_id, c.first_name, c.last_name\n",
        "ORDER BY\n",
        "    total_spent DESC;"
      ],
      "metadata": {
        "colab": {
          "base_uri": "https://localhost:8080/"
        },
        "id": "TE3Yo3LECMOi",
        "outputId": "3401145c-09bd-4719-d315-81c0b18292e8"
      },
      "execution_count": 37,
      "outputs": [
        {
          "output_type": "stream",
          "name": "stdout",
          "text": [
            " * sqlite:///:memory:\n",
            "(sqlite3.OperationalError) no such table: customer\n",
            "[SQL: SELECT\n",
            "    c.customer_id,\n",
            "    c.first_name,\n",
            "    c.last_name,\n",
            "    SUM(p.amount) AS total_spent\n",
            "FROM\n",
            "    customer c\n",
            "JOIN\n",
            "    payment p ON c.customer_id = p.customer_id\n",
            "GROUP BY\n",
            "    c.customer_id, c.first_name, c.last_name\n",
            "ORDER BY\n",
            "    total_spent DESC;]\n",
            "(Background on this error at: https://sqlalche.me/e/20/e3q8)\n"
          ]
        }
      ]
    },
    {
      "cell_type": "markdown",
      "source": [
        "2.Calculate the cumulative revenue generated by each film over time."
      ],
      "metadata": {
        "id": "1aF08m6OChyG"
      }
    },
    {
      "cell_type": "code",
      "source": [
        "#code\n",
        "%%sql\n",
        "SELECT\n",
        "    film_id,\n",
        "    revenue_date,\n",
        "    SUM(daily_revenue) OVER (PARTITION BY film_id ORDER BY revenue_date) AS cumulative_revenue\n",
        "FROM\n",
        "    film_revenue\n",
        "ORDER BY\n",
        "    film_id, revenue_date;"
      ],
      "metadata": {
        "colab": {
          "base_uri": "https://localhost:8080/"
        },
        "id": "xlIDnJMICa_Z",
        "outputId": "28de0a57-a22f-4058-f302-741759c71a65"
      },
      "execution_count": 39,
      "outputs": [
        {
          "output_type": "stream",
          "name": "stdout",
          "text": [
            " * sqlite:///:memory:\n",
            "(sqlite3.OperationalError) no such table: film_revenue\n",
            "[SQL: SELECT\n",
            "    film_id,\n",
            "    revenue_date,\n",
            "    SUM(daily_revenue) OVER (PARTITION BY film_id ORDER BY revenue_date) AS cumulative_revenue\n",
            "FROM\n",
            "    film_revenue\n",
            "ORDER BY\n",
            "    film_id, revenue_date;]\n",
            "(Background on this error at: https://sqlalche.me/e/20/e3q8)\n"
          ]
        }
      ]
    },
    {
      "cell_type": "markdown",
      "source": [
        "3. Determine the average rental duration for each film, considering films with similar lengths."
      ],
      "metadata": {
        "id": "5fOzVtS2CuhN"
      }
    },
    {
      "cell_type": "code",
      "source": [
        "#code\n",
        "%%sql\n",
        "SELECT\n",
        "    length_category, -- This would be a derived column representing your defined length categories\n",
        "    AVG(rental_duration) AS average_rental_duration\n",
        "FROM\n",
        "    (\n",
        "        SELECT\n",
        "            rental_duration,\n",
        "            -- Logic to define length_category based on film length\n",
        "            CASE\n",
        "                WHEN length <= 90 THEN 'Short'\n",
        "                WHEN length > 90 AND length <= 120 THEN 'Medium'\n",
        "                ELSE 'Long'\n",
        "            END AS length_category\n",
        "        FROM\n",
        "            film -- Assuming 'film' is your table with film details\n",
        "    ) AS categorized_films\n",
        "GROUP BY\n",
        "    length_category;"
      ],
      "metadata": {
        "colab": {
          "base_uri": "https://localhost:8080/"
        },
        "id": "U5mIxmVACo2I",
        "outputId": "feac283b-c135-4804-98db-4b76e25ff28a"
      },
      "execution_count": 41,
      "outputs": [
        {
          "output_type": "stream",
          "name": "stdout",
          "text": [
            " * sqlite:///:memory:\n",
            "(sqlite3.OperationalError) no such table: film\n",
            "[SQL: SELECT\n",
            "    length_category, -- This would be a derived column representing your defined length categories\n",
            "    AVG(rental_duration) AS average_rental_duration\n",
            "FROM\n",
            "    (\n",
            "        SELECT\n",
            "            rental_duration,\n",
            "            -- Logic to define length_category based on film length\n",
            "            CASE\n",
            "                WHEN length <= 90 THEN 'Short'\n",
            "                WHEN length > 90 AND length <= 120 THEN 'Medium'\n",
            "                ELSE 'Long'\n",
            "            END AS length_category\n",
            "        FROM\n",
            "            film -- Assuming 'film' is your table with film details\n",
            "    ) AS categorized_films\n",
            "GROUP BY\n",
            "    length_category;]\n",
            "(Background on this error at: https://sqlalche.me/e/20/e3q8)\n"
          ]
        }
      ]
    },
    {
      "cell_type": "markdown",
      "source": [
        "3.Identify the top 3 films in each category based on their rental counts."
      ],
      "metadata": {
        "id": "BAXw1jT4C5RF"
      }
    },
    {
      "cell_type": "code",
      "source": [
        "#code\n",
        "%%sql\n",
        "WITH FilmRentalCounts AS (\n",
        "    SELECT\n",
        "        f.film_id,\n",
        "        f.title,\n",
        "        c.name AS category_name,\n",
        "        COUNT(r.rental_id) AS rental_count\n",
        "    FROM\n",
        "        film AS f\n",
        "    JOIN\n",
        "        inventory AS i ON f.film_id = i.film_id\n",
        "    JOIN\n",
        "        rental AS r ON i.inventory_id = r.inventory_id\n",
        "    JOIN\n",
        "        film_category AS fc ON f.film_id = fc.film_id\n",
        "    JOIN\n",
        "        category AS c ON fc.category_id = c.category_id\n",
        "    GROUP BY\n",
        "        f.film_id, f.title, c.name\n",
        "),\n",
        "RankedFilms AS (\n",
        "    SELECT\n",
        "        film_id,\n",
        "        title,\n",
        "        category_name,\n",
        "        rental_count,\n",
        "        ROW_NUMBER() OVER (PARTITION BY category_name ORDER BY rental_count DESC) AS rank_in_category\n",
        "    FROM\n",
        "        FilmRentalCounts\n",
        ")\n",
        "SELECT\n",
        "    category_name,\n",
        "    title,\n",
        "    rental_count\n",
        "FROM\n",
        "    RankedFilms\n",
        "WHERE\n",
        "    rank_in_category <= 3\n",
        "ORDER BY\n",
        "    category_name, rental_count DESC;"
      ],
      "metadata": {
        "colab": {
          "base_uri": "https://localhost:8080/"
        },
        "id": "xuRt3gQDCyrz",
        "outputId": "dae8329b-63a0-4e58-eabb-1c054ad2419c"
      },
      "execution_count": 43,
      "outputs": [
        {
          "output_type": "stream",
          "name": "stdout",
          "text": [
            " * sqlite:///:memory:\n",
            "(sqlite3.OperationalError) no such table: film\n",
            "[SQL: WITH FilmRentalCounts AS (\n",
            "    SELECT\n",
            "        f.film_id,\n",
            "        f.title,\n",
            "        c.name AS category_name,\n",
            "        COUNT(r.rental_id) AS rental_count\n",
            "    FROM\n",
            "        film AS f\n",
            "    JOIN\n",
            "        inventory AS i ON f.film_id = i.film_id\n",
            "    JOIN\n",
            "        rental AS r ON i.inventory_id = r.inventory_id\n",
            "    JOIN\n",
            "        film_category AS fc ON f.film_id = fc.film_id\n",
            "    JOIN\n",
            "        category AS c ON fc.category_id = c.category_id\n",
            "    GROUP BY\n",
            "        f.film_id, f.title, c.name\n",
            "),\n",
            "RankedFilms AS (\n",
            "    SELECT\n",
            "        film_id,\n",
            "        title,\n",
            "        category_name,\n",
            "        rental_count,\n",
            "        ROW_NUMBER() OVER (PARTITION BY category_name ORDER BY rental_count DESC) AS rank_in_category\n",
            "    FROM\n",
            "        FilmRentalCounts\n",
            ")\n",
            "SELECT\n",
            "    category_name,\n",
            "    title,\n",
            "    rental_count\n",
            "FROM\n",
            "    RankedFilms\n",
            "WHERE\n",
            "    rank_in_category <= 3\n",
            "ORDER BY\n",
            "    category_name, rental_count DESC;]\n",
            "(Background on this error at: https://sqlalche.me/e/20/e3q8)\n"
          ]
        }
      ]
    },
    {
      "cell_type": "markdown",
      "source": [
        "5.Calculate the difference in rental counts between each customer's total rentals and the average rentals across all customers."
      ],
      "metadata": {
        "id": "e7SMMnr8DDTE"
      }
    },
    {
      "cell_type": "code",
      "source": [
        "#code\n",
        "%%sql\n",
        "SELECT\n",
        "    c.customer_id,\n",
        "    c.total_rentals,\n",
        "    (c.total_rentals - (SELECT AVG(total_rentals) FROM (SELECT customer_id, COUNT(rental_id) AS total_rentals FROM rental GROUP BY customer_id) AS sub_avg)) AS difference_from_average\n",
        "FROM\n",
        "    (SELECT customer_id, COUNT(rental_id) AS total_rentals FROM rental GROUP BY customer_id) AS c;"
      ],
      "metadata": {
        "colab": {
          "base_uri": "https://localhost:8080/"
        },
        "id": "2zzFjnHiC83Q",
        "outputId": "fa5b4340-39cc-4d3a-b652-17ea3b314dde"
      },
      "execution_count": 45,
      "outputs": [
        {
          "output_type": "stream",
          "name": "stdout",
          "text": [
            " * sqlite:///:memory:\n",
            "(sqlite3.OperationalError) no such table: rental\n",
            "[SQL: SELECT\n",
            "    c.customer_id,\n",
            "    c.total_rentals,\n",
            "    (c.total_rentals - (SELECT AVG(total_rentals) FROM (SELECT customer_id, COUNT(rental_id) AS total_rentals FROM rental GROUP BY customer_id) AS sub_avg)) AS difference_from_average\n",
            "FROM\n",
            "    (SELECT customer_id, COUNT(rental_id) AS total_rentals FROM rental GROUP BY customer_id) AS c;]\n",
            "(Background on this error at: https://sqlalche.me/e/20/e3q8)\n"
          ]
        }
      ]
    },
    {
      "cell_type": "markdown",
      "source": [
        "6.Find the monthly revenue trend for the entire rental store over time."
      ],
      "metadata": {
        "id": "bkpUe8MyDN_z"
      }
    },
    {
      "cell_type": "code",
      "source": [
        "#code\n",
        "%%sql\n",
        "SELECT\n",
        "    EXTRACT(YEAR FROM rental_date) AS rental_year,\n",
        "    EXTRACT(MONTH FROM rental_date) AS rental_month,\n",
        "    SUM(amount) AS total_monthly_revenue\n",
        "FROM\n",
        "    rental_transactions\n",
        "    rental_year,\n",
        "    rental_month\n",
        "ORDER BY\n",
        "    rental_year,\n",
        "    rental_month;"
      ],
      "metadata": {
        "colab": {
          "base_uri": "https://localhost:8080/"
        },
        "id": "X8JJ3IhIDIY_",
        "outputId": "f7637974-8aff-4394-be7b-7010097f742c"
      },
      "execution_count": 47,
      "outputs": [
        {
          "output_type": "stream",
          "name": "stdout",
          "text": [
            " * sqlite:///:memory:\n",
            "(sqlite3.OperationalError) near \"FROM\": syntax error\n",
            "[SQL: SELECT\n",
            "    EXTRACT(YEAR FROM rental_date) AS rental_year,\n",
            "    EXTRACT(MONTH FROM rental_date) AS rental_month,\n",
            "    SUM(amount) AS total_monthly_revenue\n",
            "FROM\n",
            "    rental_transactions  -- Replace 'rental_transactions' with the actual name of your rental transactions table\n",
            "GROUP BY\n",
            "    rental_year,\n",
            "    rental_month\n",
            "ORDER BY\n",
            "    rental_year,\n",
            "    rental_month;]\n",
            "(Background on this error at: https://sqlalche.me/e/20/e3q8)\n"
          ]
        }
      ]
    },
    {
      "cell_type": "markdown",
      "source": [
        "7. Identify the customers whose total spending on rentals falls within the top 20% of all customers."
      ],
      "metadata": {
        "id": "gmTOB3-fDu-C"
      }
    },
    {
      "cell_type": "code",
      "source": [
        "#code\n",
        "%%sql\n",
        "WITH CustomerTotalSpend AS (\n",
        "    SELECT\n",
        "        c.customer_id,\n",
        "        c.first_name,\n",
        "        c.last_name,\n",
        "        SUM(p.amount) AS total_rental_spend\n",
        "    FROM\n",
        "        customer AS c\n",
        "    JOIN\n",
        "        payment AS p ON c.customer_id = p.customer_id\n",
        "    GROUP BY\n",
        "        c.customer_id, c.first_name, c.last_name\n",
        "),\n",
        "RankedCustomers AS (\n",
        "    SELECT\n",
        "        customer_id,\n",
        "        first_name,\n",
        "        last_name,\n",
        "        total_rental_spend,\n",
        "        NTILE(5) OVER (ORDER BY total_rental_spend DESC) AS spend_quintile -- NTILE(5) for top 20%\n",
        "    FROM\n",
        "        CustomerTotalSpend\n",
        ")\n",
        "SELECT\n",
        "    customer_id,\n",
        "    first_name,\n",
        "    last_name,\n",
        "    total_rental_spend\n",
        "FROM\n",
        "    RankedCustomers\n",
        "WHERE\n",
        "    spend_quintile = 1;"
      ],
      "metadata": {
        "colab": {
          "base_uri": "https://localhost:8080/"
        },
        "id": "i4SLkwLRDlSO",
        "outputId": "861978e4-9377-48a6-87fd-717649543ae1"
      },
      "execution_count": 49,
      "outputs": [
        {
          "output_type": "stream",
          "name": "stdout",
          "text": [
            " * sqlite:///:memory:\n",
            "(sqlite3.OperationalError) no such table: customer\n",
            "[SQL: WITH CustomerTotalSpend AS (\n",
            "    SELECT\n",
            "        c.customer_id,\n",
            "        c.first_name,\n",
            "        c.last_name,\n",
            "        SUM(p.amount) AS total_rental_spend\n",
            "    FROM\n",
            "        customer AS c\n",
            "    JOIN\n",
            "        payment AS p ON c.customer_id = p.customer_id\n",
            "    GROUP BY\n",
            "        c.customer_id, c.first_name, c.last_name\n",
            "),\n",
            "RankedCustomers AS (\n",
            "    SELECT\n",
            "        customer_id,\n",
            "        first_name,\n",
            "        last_name,\n",
            "        total_rental_spend,\n",
            "        NTILE(5) OVER (ORDER BY total_rental_spend DESC) AS spend_quintile -- NTILE(5) for top 20%\n",
            "    FROM\n",
            "        CustomerTotalSpend\n",
            ")\n",
            "SELECT\n",
            "    customer_id,\n",
            "    first_name,\n",
            "    last_name,\n",
            "    total_rental_spend\n",
            "FROM\n",
            "    RankedCustomers\n",
            "WHERE\n",
            "    spend_quintile = 1;]\n",
            "(Background on this error at: https://sqlalche.me/e/20/e3q8)\n"
          ]
        }
      ]
    },
    {
      "cell_type": "markdown",
      "source": [
        "8. Calculate the running total of rentals per category, ordered by rental count."
      ],
      "metadata": {
        "id": "Yhj94R0kD9dq"
      }
    },
    {
      "cell_type": "code",
      "source": [
        "#CODE\n",
        "%%sql\n",
        "SELECT\n",
        "    c.name AS category_name,\n",
        "    COUNT(r.rental_id) AS rental_count,\n",
        "    SUM(COUNT(r.rental_id)) OVER (ORDER BY COUNT(r.rental_id) ASC) AS running_total_rentals\n",
        "FROM\n",
        "    category c\n",
        "JOIN\n",
        "    film_category fc ON c.category_id = fc.category_id\n",
        "JOIN\n",
        "    film f ON fc.film_id = f.film_id\n",
        "JOIN\n",
        "    inventory i ON f.film_id = i.film_id\n",
        "JOIN\n",
        "    rental r ON i.inventory_id = r.inventory_id\n",
        "GROUP BY\n",
        "    c.name\n",
        "ORDER BY\n",
        "    rental_count ASC;"
      ],
      "metadata": {
        "colab": {
          "base_uri": "https://localhost:8080/"
        },
        "id": "yMKHWA-8D2ul",
        "outputId": "99320297-9948-4d87-98e0-0958d958d56f"
      },
      "execution_count": 51,
      "outputs": [
        {
          "output_type": "stream",
          "name": "stdout",
          "text": [
            " * sqlite:///:memory:\n",
            "(sqlite3.OperationalError) no such table: category\n",
            "[SQL: SELECT\n",
            "    c.name AS category_name,\n",
            "    COUNT(r.rental_id) AS rental_count,\n",
            "    SUM(COUNT(r.rental_id)) OVER (ORDER BY COUNT(r.rental_id) ASC) AS running_total_rentals\n",
            "FROM\n",
            "    category c\n",
            "JOIN\n",
            "    film_category fc ON c.category_id = fc.category_id\n",
            "JOIN\n",
            "    film f ON fc.film_id = f.film_id\n",
            "JOIN\n",
            "    inventory i ON f.film_id = i.film_id\n",
            "JOIN\n",
            "    rental r ON i.inventory_id = r.inventory_id\n",
            "GROUP BY\n",
            "    c.name\n",
            "ORDER BY\n",
            "    rental_count ASC;]\n",
            "(Background on this error at: https://sqlalche.me/e/20/e3q8)\n"
          ]
        }
      ]
    },
    {
      "cell_type": "markdown",
      "source": [
        "9. Find the films that have been rented less than the average rental count for their respective categories."
      ],
      "metadata": {
        "id": "E7LYhYW-EOuY"
      }
    },
    {
      "cell_type": "code",
      "source": [
        "#code\n",
        "%%sql\n",
        "SELECT\n",
        "    f.title AS film_title,\n",
        "    c.name AS category_name,\n",
        "    COUNT(r.rental_id) AS film_rental_count\n",
        "FROM\n",
        "    film AS f\n",
        "JOIN\n",
        "    film_category AS fc ON f.film_id = fc.film_id\n",
        "JOIN\n",
        "    category AS c ON fc.category_id = c.category_id\n",
        "JOIN\n",
        "    inventory AS i ON f.film_id = i.film_id\n",
        "JOIN\n",
        "    rental AS r ON i.inventory_id = r.inventory_id\n",
        "GROUP BY\n",
        "    f.title, c.name\n",
        "HAVING\n",
        "    COUNT(r.rental_id) < (\n",
        "        SELECT AVG(rental_count)\n",
        "        FROM (\n",
        "            SELECT\n",
        "                fc_inner.category_id,\n",
        "                COUNT(r_inner.rental_id) AS rental_count\n",
        "            FROM\n",
        "                film AS f_inner\n",
        "            JOIN\n",
        "                film_category AS fc_inner ON f_inner.film_id = fc_inner.film_id\n",
        "            JOIN\n",
        "                inventory AS i_inner ON f_inner.film_id = i_inner.film_id\n",
        "            JOIN\n",
        "                rental AS r_inner ON i_inner.inventory_id = r_inner.inventory_id\n",
        "            GROUP BY\n",
        "                fc_inner.category_id\n",
        "        ) AS category_rental_counts\n",
        "    );"
      ],
      "metadata": {
        "colab": {
          "base_uri": "https://localhost:8080/"
        },
        "id": "TS3K0G-BEIxU",
        "outputId": "4b68d87a-4523-4ee9-fa7f-9defc96181fa"
      },
      "execution_count": 53,
      "outputs": [
        {
          "output_type": "stream",
          "name": "stdout",
          "text": [
            " * sqlite:///:memory:\n",
            "(sqlite3.OperationalError) no such table: film\n",
            "[SQL: SELECT\n",
            "    f.title AS film_title,\n",
            "    c.name AS category_name,\n",
            "    COUNT(r.rental_id) AS film_rental_count\n",
            "FROM\n",
            "    film AS f\n",
            "JOIN\n",
            "    film_category AS fc ON f.film_id = fc.film_id\n",
            "JOIN\n",
            "    category AS c ON fc.category_id = c.category_id\n",
            "JOIN\n",
            "    inventory AS i ON f.film_id = i.film_id\n",
            "JOIN\n",
            "    rental AS r ON i.inventory_id = r.inventory_id\n",
            "GROUP BY\n",
            "    f.title, c.name\n",
            "HAVING\n",
            "    COUNT(r.rental_id) < (\n",
            "        SELECT AVG(rental_count)\n",
            "        FROM (\n",
            "            SELECT\n",
            "                fc_inner.category_id,\n",
            "                COUNT(r_inner.rental_id) AS rental_count\n",
            "            FROM\n",
            "                film AS f_inner\n",
            "            JOIN\n",
            "                film_category AS fc_inner ON f_inner.film_id = fc_inner.film_id\n",
            "            JOIN\n",
            "                inventory AS i_inner ON f_inner.film_id = i_inner.film_id\n",
            "            JOIN\n",
            "                rental AS r_inner ON i_inner.inventory_id = r_inner.inventory_id\n",
            "            GROUP BY\n",
            "                fc_inner.category_id\n",
            "        ) AS category_rental_counts\n",
            "    );]\n",
            "(Background on this error at: https://sqlalche.me/e/20/e3q8)\n"
          ]
        }
      ]
    },
    {
      "cell_type": "markdown",
      "source": [
        "10.Identify the top 5 months with the highest revenue and display the revenue generated in each month."
      ],
      "metadata": {
        "id": "Zs1f5FxzEYvI"
      }
    },
    {
      "cell_type": "code",
      "source": [
        "#code\n",
        "%%sql\n",
        "SELECT\n",
        "    YEAR(sales_date) AS sales_year,\n",
        "    MONTH(sales_date) AS sales_month,\n",
        "    SUM(revenue) AS total_monthly_revenue\n",
        "FROM\n",
        "    sales\n",
        "GROUP BY\n",
        "    YEAR(sales_date),\n",
        "    MONTH(sales_date)\n",
        "ORDER BY\n",
        "    total_monthly_revenue DESC\n",
        "LIMIT 5;"
      ],
      "metadata": {
        "colab": {
          "base_uri": "https://localhost:8080/"
        },
        "id": "Ic3hwgyJERxM",
        "outputId": "058bd9d2-f999-4e6e-9976-893034d37396"
      },
      "execution_count": 55,
      "outputs": [
        {
          "output_type": "stream",
          "name": "stdout",
          "text": [
            " * sqlite:///:memory:\n",
            "(sqlite3.OperationalError) no such table: sales\n",
            "[SQL: SELECT\n",
            "    YEAR(sales_date) AS sales_year,\n",
            "    MONTH(sales_date) AS sales_month,\n",
            "    SUM(revenue) AS total_monthly_revenue\n",
            "FROM\n",
            "    sales\n",
            "GROUP BY\n",
            "    YEAR(sales_date),\n",
            "    MONTH(sales_date)\n",
            "ORDER BY\n",
            "    total_monthly_revenue DESC\n",
            "LIMIT 5;]\n",
            "(Background on this error at: https://sqlalche.me/e/20/e3q8)\n"
          ]
        }
      ]
    },
    {
      "cell_type": "markdown",
      "source": [
        "#Normalisation & CTE"
      ],
      "metadata": {
        "id": "m7R5Vr8YEm6_"
      }
    },
    {
      "cell_type": "markdown",
      "source": [
        "1.Normal Form (1NF):\n",
        "\n",
        " a. Identify a table in the Sakila database that violates 1NF. Explain how you\n",
        "\n",
        " would normalize it to achieve 1NF."
      ],
      "metadata": {
        "id": "ZF4qJpSPEnzH"
      }
    },
    {
      "cell_type": "code",
      "source": [
        "#code\n",
        "%%sql\n",
        "CREATE TABLE film_actor_normalized (\n",
        "    film_id SMALLINT UNSIGNED NOT NULL,\n",
        "    actor_id SMALLINT UNSIGNED NOT NULL,\n",
        "    PRIMARY KEY (film_id, actor_id)\n",
        ");"
      ],
      "metadata": {
        "colab": {
          "base_uri": "https://localhost:8080/"
        },
        "id": "gRaGtoVgEgmz",
        "outputId": "2266ed7b-f95c-4fbd-94de-78280973b210"
      },
      "execution_count": 57,
      "outputs": [
        {
          "output_type": "stream",
          "name": "stdout",
          "text": [
            " * sqlite:///:memory:\n",
            "Done.\n"
          ]
        },
        {
          "output_type": "execute_result",
          "data": {
            "text/plain": [
              "[]"
            ]
          },
          "metadata": {},
          "execution_count": 57
        }
      ]
    },
    {
      "cell_type": "markdown",
      "source": [
        "2.Second Normal Form (2NF):\n",
        "\n",
        " a. Choose a table in Sakila and describe how you would determine whether it is in 2NF.\n",
        "\n",
        " If it violates 2NF, explain the steps to normalize it."
      ],
      "metadata": {
        "id": "CMwnXCudE7Z-"
      }
    },
    {
      "cell_type": "code",
      "source": [
        "#code\n",
        "%%sql\n",
        "CREATE TABLE rental_extended (\n",
        "    rental_id INT NOT NULL,\n",
        "    rental_date DATETIME ,\n",
        "    inventory_id MEDIUMINT UNSIGNED NOT NULL,\n",
        "    customer_id SMALLINT UNSIGNED NOT NULL,\n",
        "    return_date DATETIME DEFAULT NULL,\n",
        "    staff_id SMALLINT UNSIGNED NOT NULL,\n",
        "    last_update TIMESTAMP NOT NULL DEFAULT CURRENT_TIMESTAMP,\n",
        "    customer_name VARCHAR(45), -- Added for illustration\n",
        "    PRIMARY KEY (rental_id, inventory_id) -- Composite Primary Key for illustration\n",
        ");"
      ],
      "metadata": {
        "colab": {
          "base_uri": "https://localhost:8080/"
        },
        "id": "QIjoEq3oEuRe",
        "outputId": "e8a3e732-c219-48e2-95bf-8fd5bc2508b7"
      },
      "execution_count": 59,
      "outputs": [
        {
          "output_type": "stream",
          "name": "stdout",
          "text": [
            " * sqlite:///:memory:\n",
            "Done.\n"
          ]
        },
        {
          "output_type": "execute_result",
          "data": {
            "text/plain": [
              "[]"
            ]
          },
          "metadata": {},
          "execution_count": 59
        }
      ]
    },
    {
      "cell_type": "markdown",
      "source": [
        "3.Third Normal Form (3NF):\n",
        "\n",
        " a. Identify a table in Sakila that violates 3NF. Describe the transitive dependencies\n",
        "\n",
        " present and outline the steps to"
      ],
      "metadata": {
        "id": "uxP8FIfnFdbt"
      }
    },
    {
      "cell_type": "code",
      "source": [
        "#code\n",
        "%%sql\n",
        "    CREATE TABLE language_details (\n",
        "        language_id TINYINT UNSIGNED PRIMARY KEY,\n",
        "        name VARCHAR(20) NOT NULL\n",
        "    );"
      ],
      "metadata": {
        "colab": {
          "base_uri": "https://localhost:8080/"
        },
        "id": "mE2urp6LFWYo",
        "outputId": "d03b6239-ccd7-45da-ed0f-38d179174cc0"
      },
      "execution_count": 61,
      "outputs": [
        {
          "output_type": "stream",
          "name": "stdout",
          "text": [
            " * sqlite:///:memory:\n",
            "Done.\n"
          ]
        },
        {
          "output_type": "execute_result",
          "data": {
            "text/plain": [
              "[]"
            ]
          },
          "metadata": {},
          "execution_count": 61
        }
      ]
    },
    {
      "cell_type": "markdown",
      "source": [
        "4.Normalization Process:\n",
        "\n",
        " a. Take a specific table in Sakila and guide through the process of normalizing it from the initial\n",
        "\n",
        " unnormalized form up to at least 2NF."
      ],
      "metadata": {
        "id": "kd5acB6xFmMM"
      }
    },
    {
      "cell_type": "code",
      "source": [
        "#code\n",
        "%%sql\n",
        "-- The original 'film' table in Sakila is already in 1NF\n",
        "CREATE TABLE film (\n",
        "    film_id SMALLINT UNSIGNED NOT NULL PRIMARY KEY,\n",
        "    title VARCHAR(255) NOT NULL,\n",
        "    description TEXT,\n",
        "    release_year YEAR,\n",
        "    language_id TINYINT UNSIGNED NOT NULL,\n",
        "    original_language_id TINYINT UNSIGNED DEFAULT NULL,\n",
        "    rental_duration TINYINT UNSIGNED NOT NULL DEFAULT 3,\n",
        "    rental_rate DECIMAL(4,2) NOT NULL DEFAULT 4.99,\n",
        "    length SMALLINT UNSIGNED DEFAULT NULL,\n",
        "    replacement_cost DECIMAL(5,2) NOT NULL DEFAULT 19.99,\n",
        "    rating ENUM('G','PG','PG-13','R','NC-17') DEFAULT 'G',\n",
        "    special_features SET('Trailers','Commentaries','Deleted Scenes','Behind the Scenes') DEFAULT NULL,\n",
        "    last_update TIMESTAMP NOT NULL DEFAULT CURRENT_TIMESTAMP ON UPDATE CURRENT_TIMESTAMP\n",
        ");"
      ],
      "metadata": {
        "colab": {
          "base_uri": "https://localhost:8080/"
        },
        "id": "lqeAkRrNFhJA",
        "outputId": "43d16bea-884c-4c14-f36f-a29a315640c3"
      },
      "execution_count": 63,
      "outputs": [
        {
          "output_type": "stream",
          "name": "stdout",
          "text": [
            " * sqlite:///:memory:\n",
            "(sqlite3.OperationalError) near \"'G'\": syntax error\n",
            "[SQL: -- The original 'film' table in Sakila is already in 1NF\n",
            "CREATE TABLE film (\n",
            "    film_id SMALLINT UNSIGNED NOT NULL PRIMARY KEY,\n",
            "    title VARCHAR(255) NOT NULL,\n",
            "    description TEXT,\n",
            "    release_year YEAR,\n",
            "    language_id TINYINT UNSIGNED NOT NULL,\n",
            "    original_language_id TINYINT UNSIGNED DEFAULT NULL,\n",
            "    rental_duration TINYINT UNSIGNED NOT NULL DEFAULT 3,\n",
            "    rental_rate DECIMAL(4,2) NOT NULL DEFAULT 4.99,\n",
            "    length SMALLINT UNSIGNED DEFAULT NULL,\n",
            "    replacement_cost DECIMAL(5,2) NOT NULL DEFAULT 19.99,\n",
            "    rating ENUM('G','PG','PG-13','R','NC-17') DEFAULT 'G',\n",
            "    special_features SET('Trailers','Commentaries','Deleted Scenes','Behind the Scenes') DEFAULT NULL,\n",
            "    last_update TIMESTAMP NOT NULL DEFAULT CURRENT_TIMESTAMP ON UPDATE CURRENT_TIMESTAMP\n",
            ");]\n",
            "(Background on this error at: https://sqlalche.me/e/20/e3q8)\n"
          ]
        }
      ]
    },
    {
      "cell_type": "markdown",
      "source": [
        "5. CTE Basics:\n",
        "\n",
        " a. Write a query using a CTE to retrieve the distinct list of actor names and the number of films they\n",
        "\n",
        " have acted in from the actor and film_actor tables."
      ],
      "metadata": {
        "id": "Sy8gLal9F3xT"
      }
    },
    {
      "cell_type": "code",
      "source": [
        "#code\n",
        "%%sql\n",
        "WITH ActorFilmCounts AS (\n",
        "    SELECT\n",
        "        a.first_name,\n",
        "        a.last_name,\n",
        "        COUNT(fa.film_id) AS number_of_films\n",
        "    FROM\n",
        "        actor AS a\n",
        "    JOIN\n",
        "        film_actor AS fa ON a.actor_id = fa.actor_id\n",
        "    GROUP BY\n",
        "        a.actor_id, a.first_name, a.last_name\n",
        ")\n",
        "SELECT\n",
        "    first_name,\n",
        "    last_name,\n",
        "    number_of_films\n",
        "FROM\n",
        "    ActorFilmCounts\n",
        "ORDER BY\n",
        "    number_of_films DESC, last_name, first_name;"
      ],
      "metadata": {
        "colab": {
          "base_uri": "https://localhost:8080/"
        },
        "id": "ftx8TRs1FxCi",
        "outputId": "cceda860-b8af-4d30-beac-59c2863a72cd"
      },
      "execution_count": 65,
      "outputs": [
        {
          "output_type": "stream",
          "name": "stdout",
          "text": [
            " * sqlite:///:memory:\n",
            "(sqlite3.OperationalError) no such table: actor\n",
            "[SQL: WITH ActorFilmCounts AS (\n",
            "    SELECT\n",
            "        a.first_name,\n",
            "        a.last_name,\n",
            "        COUNT(fa.film_id) AS number_of_films\n",
            "    FROM\n",
            "        actor AS a\n",
            "    JOIN\n",
            "        film_actor AS fa ON a.actor_id = fa.actor_id\n",
            "    GROUP BY\n",
            "        a.actor_id, a.first_name, a.last_name\n",
            ")\n",
            "SELECT\n",
            "    first_name,\n",
            "    last_name,\n",
            "    number_of_films\n",
            "FROM\n",
            "    ActorFilmCounts\n",
            "ORDER BY\n",
            "    number_of_films DESC, last_name, first_name;]\n",
            "(Background on this error at: https://sqlalche.me/e/20/e3q8)\n"
          ]
        }
      ]
    },
    {
      "cell_type": "markdown",
      "source": [
        "6.CTE with Joins:\n",
        "\n",
        " a. Create a CTE that combines information from the film and language tables to display the film title,\n",
        "\n",
        " language name, and rental rate."
      ],
      "metadata": {
        "id": "seLazInaGC71"
      }
    },
    {
      "cell_type": "code",
      "source": [
        "%%sql\n",
        "WITH FilmLanguageDetails AS (\n",
        "    SELECT\n",
        "        f.title AS film_title,\n",
        "        l.name AS language_name,\n",
        "        f.rental_rate\n",
        "    FROM\n",
        "        film f\n",
        "    JOIN\n",
        "        language l ON f.language_id = l.language_id\n",
        ")\n",
        "SELECT\n",
        "    film_title,\n",
        "    language_name,\n",
        "    rental_rate\n",
        "FROM\n",
        "    FilmLanguageDetails;"
      ],
      "metadata": {
        "colab": {
          "base_uri": "https://localhost:8080/"
        },
        "id": "lUCWGlZsF7vn",
        "outputId": "5ba62381-f95f-4063-99d2-b5e8e6f3317a"
      },
      "execution_count": 67,
      "outputs": [
        {
          "output_type": "stream",
          "name": "stdout",
          "text": [
            " * sqlite:///:memory:\n",
            "(sqlite3.OperationalError) no such table: film\n",
            "[SQL: WITH FilmLanguageDetails AS (\n",
            "    SELECT\n",
            "        f.title AS film_title,  -- Select the film title and alias it\n",
            "        l.name AS language_name, -- Select the language name and alias it\n",
            "        f.rental_rate           -- Select the rental rate\n",
            "    FROM\n",
            "        film f                  -- Specify the film table and assign an alias\n",
            "    JOIN\n",
            "        language l ON f.language_id = l.language_id -- Join the tables on the language_id column\n",
            ")\n",
            "SELECT\n",
            "    film_title,\n",
            "    language_name,\n",
            "    rental_rate\n",
            "FROM\n",
            "    FilmLanguageDetails;]\n",
            "(Background on this error at: https://sqlalche.me/e/20/e3q8)\n"
          ]
        }
      ]
    },
    {
      "cell_type": "markdown",
      "source": [
        "7.CTE for Aggregation:\n",
        "\n",
        " a. Write a query using a CTE to find the total revenue generated by each customer (sum of payments)\n",
        "\n",
        " from the customer and payment tables."
      ],
      "metadata": {
        "id": "-8Ot57KNGaaL"
      }
    },
    {
      "cell_type": "code",
      "source": [
        "#code\n",
        "%%sql\n",
        "WITH CustomerPayments AS (\n",
        "    SELECT\n",
        "        p.customer_id,\n",
        "        SUM(p.amount) AS total_payment_amount\n",
        "    FROM\n",
        "        payment p\n",
        "    GROUP BY\n",
        "        p.customer_id\n",
        ")\n",
        "SELECT\n",
        "    c.customer_id,\n",
        "    c.first_name,\n",
        "    c.last_name,\n",
        "    cp.total_payment_amount AS total_revenue\n",
        "FROM\n",
        "    customer c\n",
        "JOIN\n",
        "    CustomerPayments cp ON c.customer_id = cp.customer_id;"
      ],
      "metadata": {
        "colab": {
          "base_uri": "https://localhost:8080/"
        },
        "id": "-_7ydQKdGP1W",
        "outputId": "0eccbcfe-d7a2-45e7-bc75-c11ac6286621"
      },
      "execution_count": 69,
      "outputs": [
        {
          "output_type": "stream",
          "name": "stdout",
          "text": [
            " * sqlite:///:memory:\n",
            "(sqlite3.OperationalError) no such table: customer\n",
            "[SQL: WITH CustomerPayments AS (\n",
            "    SELECT\n",
            "        p.customer_id,\n",
            "        SUM(p.amount) AS total_payment_amount\n",
            "    FROM\n",
            "        payment p\n",
            "    GROUP BY\n",
            "        p.customer_id\n",
            ")\n",
            "SELECT\n",
            "    c.customer_id,\n",
            "    c.first_name,\n",
            "    c.last_name,\n",
            "    cp.total_payment_amount AS total_revenue\n",
            "FROM\n",
            "    customer c\n",
            "JOIN\n",
            "    CustomerPayments cp ON c.customer_id = cp.customer_id;]\n",
            "(Background on this error at: https://sqlalche.me/e/20/e3q8)\n"
          ]
        }
      ]
    },
    {
      "cell_type": "markdown",
      "source": [
        "8.CTE with Window Functions:\n",
        "\n",
        " a. Utilize a CTE with a window function to rank films based on their rental duration from the film table."
      ],
      "metadata": {
        "id": "neVEnc1VGvlh"
      }
    },
    {
      "cell_type": "code",
      "source": [
        "#code\n",
        "%%sql\n",
        "WITH RankedFilms AS (\n",
        "    SELECT\n",
        "        film_id,\n",
        "        title,\n",
        "        rental_duration,\n",
        "        RANK() OVER (ORDER BY rental_duration DESC) AS rental_rank\n",
        "    FROM\n",
        "        film\n",
        ")\n",
        "SELECT\n",
        "    film_id,\n",
        "    title,\n",
        "    rental_duration,\n",
        "    rental_rank\n",
        "FROM\n",
        "    RankedFilms\n",
        "ORDER BY\n",
        "    rental_rank;"
      ],
      "metadata": {
        "colab": {
          "base_uri": "https://localhost:8080/"
        },
        "id": "3NgjRx_bGnR9",
        "outputId": "af8b6f28-c3fa-4ad5-f0a9-0ad60e891952"
      },
      "execution_count": 71,
      "outputs": [
        {
          "output_type": "stream",
          "name": "stdout",
          "text": [
            " * sqlite:///:memory:\n",
            "(sqlite3.OperationalError) no such table: film\n",
            "[SQL: WITH RankedFilms AS (\n",
            "    SELECT\n",
            "        film_id,\n",
            "        title,\n",
            "        rental_duration,\n",
            "        RANK() OVER (ORDER BY rental_duration DESC) AS rental_rank\n",
            "    FROM\n",
            "        film\n",
            ")\n",
            "SELECT\n",
            "    film_id,\n",
            "    title,\n",
            "    rental_duration,\n",
            "    rental_rank\n",
            "FROM\n",
            "    RankedFilms\n",
            "ORDER BY\n",
            "    rental_rank;]\n",
            "(Background on this error at: https://sqlalche.me/e/20/e3q8)\n"
          ]
        }
      ]
    },
    {
      "cell_type": "markdown",
      "source": [
        "9.CTE and filtering:\n",
        "\n",
        " a. Create a CTE to list customers who have made more than two rentals, and then join this CTE with the\n",
        "\n",
        " customer table to retrieve additional customer details."
      ],
      "metadata": {
        "id": "RS6gkMOMHDpI"
      }
    },
    {
      "cell_type": "code",
      "source": [
        "#code\n",
        "%%sql\n",
        "WITH CustomerRentalCount AS (\n",
        "    SELECT\n",
        "        customer_id,\n",
        "        COUNT(rental_id) AS total_rentals\n",
        "    FROM\n",
        "        rental\n",
        "    GROUP BY\n",
        "        customer_id\n",
        "    HAVING\n",
        "        COUNT(rental_id) > 2\n",
        ")\n",
        "SELECT\n",
        "    c.customer_id,\n",
        "    c.first_name,\n",
        "    c.last_name,\n",
        "    c.email,\n",
        "    crc.total_rentals\n",
        "FROM\n",
        "    customer AS c\n",
        "JOIN\n",
        "    CustomerRentalCount AS crc ON c.customer_id = crc.customer_id;"
      ],
      "metadata": {
        "colab": {
          "base_uri": "https://localhost:8080/"
        },
        "id": "IM_AdFBGG-Hr",
        "outputId": "3a2a2569-30da-4b65-8567-7a53df1aa583"
      },
      "execution_count": 73,
      "outputs": [
        {
          "output_type": "stream",
          "name": "stdout",
          "text": [
            " * sqlite:///:memory:\n",
            "(sqlite3.OperationalError) no such table: customer\n",
            "[SQL: WITH CustomerRentalCount AS (\n",
            "    SELECT\n",
            "        customer_id,\n",
            "        COUNT(rental_id) AS total_rentals\n",
            "    FROM\n",
            "        rental\n",
            "    GROUP BY\n",
            "        customer_id\n",
            "    HAVING\n",
            "        COUNT(rental_id) > 2\n",
            ")\n",
            "SELECT\n",
            "    c.customer_id,\n",
            "    c.first_name,\n",
            "    c.last_name,\n",
            "    c.email,\n",
            "    crc.total_rentals\n",
            "FROM\n",
            "    customer AS c\n",
            "JOIN\n",
            "    CustomerRentalCount AS crc ON c.customer_id = crc.customer_id;]\n",
            "(Background on this error at: https://sqlalche.me/e/20/e3q8)\n"
          ]
        }
      ]
    },
    {
      "cell_type": "markdown",
      "source": [
        "10.CTE for Date Calculations:\n",
        "\n",
        " a. Write a query using a CTE to find the total number of rentals made each month, considering the\n",
        "\n",
        " rental_date from the rental table"
      ],
      "metadata": {
        "id": "uRsBvuTpHSZ3"
      }
    },
    {
      "cell_type": "code",
      "source": [
        "#code\n",
        "%%sql\n",
        "WITH MonthlyRentals AS (\n",
        "    SELECT\n",
        "        strftime('%Y-%m', rental_date) AS rental_month,\n",
        "        COUNT(rental_id) AS total_rentals\n",
        "    FROM\n",
        "        rental\n",
        "    GROUP BY\n",
        "        rental_month\n",
        ")\n",
        "SELECT\n",
        "    rental_month,\n",
        "    total_rentals\n",
        "FROM\n",
        "    MonthlyRentals\n",
        "ORDER BY\n",
        "    rental_month;"
      ],
      "metadata": {
        "colab": {
          "base_uri": "https://localhost:8080/"
        },
        "id": "xWNzNaZiHNNb",
        "outputId": "1d832c22-e8ef-49f3-db6f-31d5efdc1c61"
      },
      "execution_count": 75,
      "outputs": [
        {
          "output_type": "stream",
          "name": "stdout",
          "text": [
            " * sqlite:///:memory:\n",
            "(sqlite3.OperationalError) no such table: rental\n",
            "[SQL: WITH MonthlyRentals AS (\n",
            "    SELECT\n",
            "        strftime('%Y-%m', rental_date) AS rental_month,\n",
            "        COUNT(rental_id) AS total_rentals\n",
            "    FROM\n",
            "        rental\n",
            "    GROUP BY\n",
            "        rental_month\n",
            ")\n",
            "SELECT\n",
            "    rental_month,\n",
            "    total_rentals\n",
            "FROM\n",
            "    MonthlyRentals\n",
            "ORDER BY\n",
            "    rental_month;]\n",
            "(Background on this error at: https://sqlalche.me/e/20/e3q8)\n"
          ]
        }
      ]
    },
    {
      "cell_type": "markdown",
      "source": [
        "11.CTE and Self-Join:\n",
        "\n",
        " a. Create a CTE to generate a report showing pairs of actors who have appeared in the same film\n",
        "\n",
        " together, using the film_actor table."
      ],
      "metadata": {
        "id": "rPgVda8WHcrf"
      }
    },
    {
      "cell_type": "code",
      "source": [
        "#code\n",
        "%%sql\n",
        "WITH FilmActorPairs AS (\n",
        "    SELECT\n",
        "        fa1.actor_id AS actor1_id,\n",
        "        fa2.actor_id AS actor2_id,\n",
        "        fa1.film_id\n",
        "    FROM\n",
        "        film_actor fa1\n",
        "    JOIN\n",
        "        film_actor fa2 ON fa1.film_id = fa2.film_id\n",
        "    WHERE\n",
        "        fa1.actor_id < fa2.actor_id -- To avoid duplicate pairs (e.g., A,B and B,A) and self-pairing\n",
        ")\n",
        "SELECT\n",
        "    fap.actor1_id,\n",
        "    fap.actor2_id,\n",
        "    COUNT(DISTINCT fap.film_id) AS films_together\n",
        "FROM\n",
        "    FilmActorPairs fap\n",
        "GROUP BY\n",
        "    fap.actor1_id,\n",
        "    fap.actor2_id\n",
        "ORDER BY\n",
        "    films_together DESC, fap.actor1_id, fap.actor2_id;"
      ],
      "metadata": {
        "colab": {
          "base_uri": "https://localhost:8080/"
        },
        "id": "wXImTZmqHXG6",
        "outputId": "80356cdc-6417-4272-f82b-14dfcd24c110"
      },
      "execution_count": 77,
      "outputs": [
        {
          "output_type": "stream",
          "name": "stdout",
          "text": [
            " * sqlite:///:memory:\n",
            "(sqlite3.OperationalError) no such table: film_actor\n",
            "[SQL: WITH FilmActorPairs AS (\n",
            "    SELECT\n",
            "        fa1.actor_id AS actor1_id,\n",
            "        fa2.actor_id AS actor2_id,\n",
            "        fa1.film_id\n",
            "    FROM\n",
            "        film_actor fa1\n",
            "    JOIN\n",
            "        film_actor fa2 ON fa1.film_id = fa2.film_id\n",
            "    WHERE\n",
            "        fa1.actor_id < fa2.actor_id -- To avoid duplicate pairs (e.g., A,B and B,A) and self-pairing\n",
            ")\n",
            "SELECT\n",
            "    fap.actor1_id,\n",
            "    fap.actor2_id,\n",
            "    COUNT(DISTINCT fap.film_id) AS films_together\n",
            "FROM\n",
            "    FilmActorPairs fap\n",
            "GROUP BY\n",
            "    fap.actor1_id,\n",
            "    fap.actor2_id\n",
            "ORDER BY\n",
            "    films_together DESC, fap.actor1_id, fap.actor2_id;]\n",
            "(Background on this error at: https://sqlalche.me/e/20/e3q8)\n"
          ]
        }
      ]
    },
    {
      "cell_type": "markdown",
      "source": [
        "12.CTE for Recursive Search:\n",
        "\n",
        " a. Implement a recursive CTE to find all employees in the staff table who report to a specific manager,\n",
        "\n",
        " considering the reports_to column."
      ],
      "metadata": {
        "id": "c_CjNb-_HrVm"
      }
    },
    {
      "cell_type": "code",
      "source": [
        "#code\n",
        "%%sql\n",
        "WITH RECURSIVE EmployeeHierarchy AS (\n",
        "    SELECT\n",
        "        staff_id,\n",
        "        first_name,\n",
        "        last_name,\n",
        "        reports_to\n",
        "    FROM\n",
        "        staff\n",
        "    WHERE\n",
        "        staff_id = 2\n",
        "\n",
        "    UNION ALL\n",
        "\n",
        "    SELECT\n",
        "        s.staff_id,\n",
        "        s.first_name,\n",
        "        s.last_name,\n",
        "        s.reports_to\n",
        "    FROM\n",
        "        staff s\n",
        "    INNER JOIN\n",
        "        EmployeeHierarchy eh ON s.reports_to = eh.staff_id\n",
        ")\n",
        "SELECT\n",
        "    staff_id,\n",
        "    first_name,\n",
        "    last_name,\n",
        "    reports_to\n",
        "FROM\n",
        "    EmployeeHierarchy;"
      ],
      "metadata": {
        "colab": {
          "base_uri": "https://localhost:8080/"
        },
        "id": "HHoAjNsZHllB",
        "outputId": "a616ba6f-3836-4a0a-d194-f15ea431a8c8"
      },
      "execution_count": 79,
      "outputs": [
        {
          "output_type": "stream",
          "name": "stdout",
          "text": [
            " * sqlite:///:memory:\n",
            "(sqlite3.OperationalError) no such table: staff\n",
            "[SQL: WITH RECURSIVE EmployeeHierarchy AS (\n",
            "    -- Anchor member: Select the initial manager(s)\n",
            "    SELECT\n",
            "        staff_id,\n",
            "        first_name,\n",
            "        last_name,\n",
            "        reports_to\n",
            "    FROM\n",
            "        staff\n",
            "    WHERE\n",
            "        staff_id = 2 -- Replace with the ID of the manager you want to start with\n",
            "\n",
            "    UNION ALL\n",
            "\n",
            "    -- Recursive member: Find employees who report to the employees found in the previous step\n",
            "    SELECT\n",
            "        s.staff_id,\n",
            "        s.first_name,\n",
            "        s.last_name,\n",
            "        s.reports_to\n",
            "    FROM\n",
            "        staff s\n",
            "    INNER JOIN\n",
            "        EmployeeHierarchy eh ON s.reports_to = eh.staff_id\n",
            ")\n",
            "SELECT\n",
            "    staff_id,\n",
            "    first_name,\n",
            "    last_name,\n",
            "    reports_to\n",
            "FROM\n",
            "    EmployeeHierarchy;]\n",
            "(Background on this error at: https://sqlalche.me/e/20/e3q8)\n"
          ]
        }
      ]
    }
  ]
}